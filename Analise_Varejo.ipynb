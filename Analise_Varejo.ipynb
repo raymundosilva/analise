{
 "cells": [
  {
   "cell_type": "markdown",
   "id": "b061b4ec",
   "metadata": {},
   "source": [
    "# <font color='blue'>Data Science Academy</font>\n",
    "\n",
    "## <font color='blue'>Fundamentos de Linguagem Python Para Análise de Dados e Data Science</font>\n",
    "\n",
    "## <font color='blue'>Projeto 2</font>\n",
    "\n",
    "## <font color='blue'>Análise Exploratória de Dados em Linguagem Python Para a Área de Varejo</font>"
   ]
  },
  {
   "cell_type": "markdown",
   "id": "da367ec2",
   "metadata": {},
   "source": [
    "![DSA](dados.png)"
   ]
  },
  {
   "cell_type": "code",
   "execution_count": 1,
   "id": "b0d022f0",
   "metadata": {},
   "outputs": [
    {
     "name": "stdout",
     "output_type": "stream",
     "text": [
      "Versão da Linguagem Python Usada Neste Jupyter Notebook: 3.9.12\n"
     ]
    }
   ],
   "source": [
    "# Versão da Linguagem Python\n",
    "from platform import python_version\n",
    "print('Versão da Linguagem Python Usada Neste Jupyter Notebook:', python_version())"
   ]
  },
  {
   "cell_type": "code",
   "execution_count": 24,
   "id": "b4db14f6",
   "metadata": {},
   "outputs": [],
   "source": [
    "# Imports\n",
    "from colorama import Fore, Style\n",
    "import numpy as np\n",
    "import pandas as pd\n",
    "import matplotlib.pyplot as plt\n",
    "import seaborn as sns\n",
    "import datetime as dt"
   ]
  },
  {
   "cell_type": "markdown",
   "id": "cba483b3",
   "metadata": {},
   "source": [
    "## Carregando os Dados"
   ]
  },
  {
   "cell_type": "code",
   "execution_count": 4,
   "id": "9e9a2f84",
   "metadata": {},
   "outputs": [],
   "source": [
    "# Carrega o dataset\n",
    "df_venda = pd.read_csv('dataset.csv')"
   ]
  },
  {
   "cell_type": "code",
   "execution_count": 5,
   "id": "b2057c0d",
   "metadata": {},
   "outputs": [
    {
     "data": {
      "text/plain": [
       "(9700, 11)"
      ]
     },
     "execution_count": 5,
     "metadata": {},
     "output_type": "execute_result"
    }
   ],
   "source": [
    "# Shape\n",
    "df_venda.shape"
   ]
  },
  {
   "cell_type": "code",
   "execution_count": 6,
   "id": "d2814227",
   "metadata": {
    "scrolled": true
   },
   "outputs": [
    {
     "data": {
      "text/html": [
       "<div>\n",
       "<style scoped>\n",
       "    .dataframe tbody tr th:only-of-type {\n",
       "        vertical-align: middle;\n",
       "    }\n",
       "\n",
       "    .dataframe tbody tr th {\n",
       "        vertical-align: top;\n",
       "    }\n",
       "\n",
       "    .dataframe thead th {\n",
       "        text-align: right;\n",
       "    }\n",
       "</style>\n",
       "<table border=\"1\" class=\"dataframe\">\n",
       "  <thead>\n",
       "    <tr style=\"text-align: right;\">\n",
       "      <th></th>\n",
       "      <th>ID_Pedido</th>\n",
       "      <th>Data_Pedido</th>\n",
       "      <th>ID_Cliente</th>\n",
       "      <th>Segmento</th>\n",
       "      <th>Pais</th>\n",
       "      <th>Cidade</th>\n",
       "      <th>Estado</th>\n",
       "      <th>ID_Produto</th>\n",
       "      <th>Categoria</th>\n",
       "      <th>SubCategoria</th>\n",
       "      <th>Valor_Venda</th>\n",
       "    </tr>\n",
       "  </thead>\n",
       "  <tbody>\n",
       "    <tr>\n",
       "      <th>0</th>\n",
       "      <td>CA-2017-152156</td>\n",
       "      <td>08/11/2017</td>\n",
       "      <td>CG-12520</td>\n",
       "      <td>Consumer</td>\n",
       "      <td>United States</td>\n",
       "      <td>Henderson</td>\n",
       "      <td>Kentucky</td>\n",
       "      <td>FUR-BO-10001798</td>\n",
       "      <td>Furniture</td>\n",
       "      <td>Bookcases</td>\n",
       "      <td>261.9600</td>\n",
       "    </tr>\n",
       "    <tr>\n",
       "      <th>1</th>\n",
       "      <td>CA-2017-152156</td>\n",
       "      <td>08/11/2017</td>\n",
       "      <td>CG-12520</td>\n",
       "      <td>Consumer</td>\n",
       "      <td>United States</td>\n",
       "      <td>Henderson</td>\n",
       "      <td>Kentucky</td>\n",
       "      <td>FUR-CH-10000454</td>\n",
       "      <td>Furniture</td>\n",
       "      <td>Chairs</td>\n",
       "      <td>731.9400</td>\n",
       "    </tr>\n",
       "    <tr>\n",
       "      <th>2</th>\n",
       "      <td>CA-2017-138688</td>\n",
       "      <td>12/06/2017</td>\n",
       "      <td>DV-13045</td>\n",
       "      <td>Corporate</td>\n",
       "      <td>United States</td>\n",
       "      <td>Los Angeles</td>\n",
       "      <td>California</td>\n",
       "      <td>OFF-LA-10000240</td>\n",
       "      <td>Office Supplies</td>\n",
       "      <td>Labels</td>\n",
       "      <td>14.6200</td>\n",
       "    </tr>\n",
       "    <tr>\n",
       "      <th>3</th>\n",
       "      <td>US-2016-108966</td>\n",
       "      <td>11/10/2016</td>\n",
       "      <td>SO-20335</td>\n",
       "      <td>Consumer</td>\n",
       "      <td>United States</td>\n",
       "      <td>Fort Lauderdale</td>\n",
       "      <td>Florida</td>\n",
       "      <td>FUR-TA-10000577</td>\n",
       "      <td>Furniture</td>\n",
       "      <td>Tables</td>\n",
       "      <td>957.5775</td>\n",
       "    </tr>\n",
       "    <tr>\n",
       "      <th>4</th>\n",
       "      <td>US-2016-108966</td>\n",
       "      <td>11/10/2016</td>\n",
       "      <td>SO-20335</td>\n",
       "      <td>Consumer</td>\n",
       "      <td>United States</td>\n",
       "      <td>Fort Lauderdale</td>\n",
       "      <td>Florida</td>\n",
       "      <td>OFF-ST-10000760</td>\n",
       "      <td>Office Supplies</td>\n",
       "      <td>Storage</td>\n",
       "      <td>22.3680</td>\n",
       "    </tr>\n",
       "  </tbody>\n",
       "</table>\n",
       "</div>"
      ],
      "text/plain": [
       "        ID_Pedido Data_Pedido ID_Cliente   Segmento           Pais  \\\n",
       "0  CA-2017-152156  08/11/2017   CG-12520   Consumer  United States   \n",
       "1  CA-2017-152156  08/11/2017   CG-12520   Consumer  United States   \n",
       "2  CA-2017-138688  12/06/2017   DV-13045  Corporate  United States   \n",
       "3  US-2016-108966  11/10/2016   SO-20335   Consumer  United States   \n",
       "4  US-2016-108966  11/10/2016   SO-20335   Consumer  United States   \n",
       "\n",
       "            Cidade      Estado       ID_Produto        Categoria SubCategoria  \\\n",
       "0        Henderson    Kentucky  FUR-BO-10001798        Furniture    Bookcases   \n",
       "1        Henderson    Kentucky  FUR-CH-10000454        Furniture       Chairs   \n",
       "2      Los Angeles  California  OFF-LA-10000240  Office Supplies       Labels   \n",
       "3  Fort Lauderdale     Florida  FUR-TA-10000577        Furniture       Tables   \n",
       "4  Fort Lauderdale     Florida  OFF-ST-10000760  Office Supplies      Storage   \n",
       "\n",
       "   Valor_Venda  \n",
       "0     261.9600  \n",
       "1     731.9400  \n",
       "2      14.6200  \n",
       "3     957.5775  \n",
       "4      22.3680  "
      ]
     },
     "execution_count": 6,
     "metadata": {},
     "output_type": "execute_result"
    }
   ],
   "source": [
    "# Amostra dos dados\n",
    "df_venda.head()"
   ]
  },
  {
   "cell_type": "code",
   "execution_count": 7,
   "id": "962249af",
   "metadata": {},
   "outputs": [
    {
     "data": {
      "text/html": [
       "<div>\n",
       "<style scoped>\n",
       "    .dataframe tbody tr th:only-of-type {\n",
       "        vertical-align: middle;\n",
       "    }\n",
       "\n",
       "    .dataframe tbody tr th {\n",
       "        vertical-align: top;\n",
       "    }\n",
       "\n",
       "    .dataframe thead th {\n",
       "        text-align: right;\n",
       "    }\n",
       "</style>\n",
       "<table border=\"1\" class=\"dataframe\">\n",
       "  <thead>\n",
       "    <tr style=\"text-align: right;\">\n",
       "      <th></th>\n",
       "      <th>ID_Pedido</th>\n",
       "      <th>Data_Pedido</th>\n",
       "      <th>ID_Cliente</th>\n",
       "      <th>Segmento</th>\n",
       "      <th>Pais</th>\n",
       "      <th>Cidade</th>\n",
       "      <th>Estado</th>\n",
       "      <th>ID_Produto</th>\n",
       "      <th>Categoria</th>\n",
       "      <th>SubCategoria</th>\n",
       "      <th>Valor_Venda</th>\n",
       "    </tr>\n",
       "  </thead>\n",
       "  <tbody>\n",
       "    <tr>\n",
       "      <th>9695</th>\n",
       "      <td>CA-2018-154116</td>\n",
       "      <td>15/12/2018</td>\n",
       "      <td>KM-16660</td>\n",
       "      <td>Consumer</td>\n",
       "      <td>United States</td>\n",
       "      <td>Inglewood</td>\n",
       "      <td>California</td>\n",
       "      <td>OFF-PA-10004569</td>\n",
       "      <td>Office Supplies</td>\n",
       "      <td>Paper</td>\n",
       "      <td>22.830</td>\n",
       "    </tr>\n",
       "    <tr>\n",
       "      <th>9696</th>\n",
       "      <td>CA-2018-154116</td>\n",
       "      <td>15/12/2018</td>\n",
       "      <td>KM-16660</td>\n",
       "      <td>Consumer</td>\n",
       "      <td>United States</td>\n",
       "      <td>Inglewood</td>\n",
       "      <td>California</td>\n",
       "      <td>OFF-AP-10000027</td>\n",
       "      <td>Office Supplies</td>\n",
       "      <td>Appliances</td>\n",
       "      <td>54.320</td>\n",
       "    </tr>\n",
       "    <tr>\n",
       "      <th>9697</th>\n",
       "      <td>CA-2018-154116</td>\n",
       "      <td>15/12/2018</td>\n",
       "      <td>KM-16660</td>\n",
       "      <td>Consumer</td>\n",
       "      <td>United States</td>\n",
       "      <td>Inglewood</td>\n",
       "      <td>California</td>\n",
       "      <td>TEC-PH-10000675</td>\n",
       "      <td>Technology</td>\n",
       "      <td>Phones</td>\n",
       "      <td>196.776</td>\n",
       "    </tr>\n",
       "    <tr>\n",
       "      <th>9698</th>\n",
       "      <td>CA-2017-105291</td>\n",
       "      <td>30/10/2017</td>\n",
       "      <td>SP-20920</td>\n",
       "      <td>Consumer</td>\n",
       "      <td>United States</td>\n",
       "      <td>San Luis Obispo</td>\n",
       "      <td>California</td>\n",
       "      <td>OFF-FA-10003059</td>\n",
       "      <td>Office Supplies</td>\n",
       "      <td>Fasteners</td>\n",
       "      <td>3.620</td>\n",
       "    </tr>\n",
       "    <tr>\n",
       "      <th>9699</th>\n",
       "      <td>CA-2018-147032</td>\n",
       "      <td>31/07/2018</td>\n",
       "      <td>LB-16795</td>\n",
       "      <td>Home Office</td>\n",
       "      <td>United States</td>\n",
       "      <td>Wilmington</td>\n",
       "      <td>Delaware</td>\n",
       "      <td>OFF-PA-10003256</td>\n",
       "      <td>Office Supplies</td>\n",
       "      <td>Paper</td>\n",
       "      <td>11.540</td>\n",
       "    </tr>\n",
       "  </tbody>\n",
       "</table>\n",
       "</div>"
      ],
      "text/plain": [
       "           ID_Pedido Data_Pedido ID_Cliente     Segmento           Pais  \\\n",
       "9695  CA-2018-154116  15/12/2018   KM-16660     Consumer  United States   \n",
       "9696  CA-2018-154116  15/12/2018   KM-16660     Consumer  United States   \n",
       "9697  CA-2018-154116  15/12/2018   KM-16660     Consumer  United States   \n",
       "9698  CA-2017-105291  30/10/2017   SP-20920     Consumer  United States   \n",
       "9699  CA-2018-147032  31/07/2018   LB-16795  Home Office  United States   \n",
       "\n",
       "               Cidade      Estado       ID_Produto        Categoria  \\\n",
       "9695        Inglewood  California  OFF-PA-10004569  Office Supplies   \n",
       "9696        Inglewood  California  OFF-AP-10000027  Office Supplies   \n",
       "9697        Inglewood  California  TEC-PH-10000675       Technology   \n",
       "9698  San Luis Obispo  California  OFF-FA-10003059  Office Supplies   \n",
       "9699       Wilmington    Delaware  OFF-PA-10003256  Office Supplies   \n",
       "\n",
       "     SubCategoria  Valor_Venda  \n",
       "9695        Paper       22.830  \n",
       "9696   Appliances       54.320  \n",
       "9697       Phones      196.776  \n",
       "9698    Fasteners        3.620  \n",
       "9699        Paper       11.540  "
      ]
     },
     "execution_count": 7,
     "metadata": {},
     "output_type": "execute_result"
    }
   ],
   "source": [
    "# Amostra dos dados\n",
    "df_venda.tail()"
   ]
  },
  {
   "cell_type": "markdown",
   "id": "3f0cf95a",
   "metadata": {},
   "source": [
    "## Análise Exploratória"
   ]
  },
  {
   "cell_type": "code",
   "execution_count": 8,
   "id": "7e4c9a2d",
   "metadata": {},
   "outputs": [
    {
     "data": {
      "text/plain": [
       "Index(['ID_Pedido', 'Data_Pedido', 'ID_Cliente', 'Segmento', 'Pais', 'Cidade',\n",
       "       'Estado', 'ID_Produto', 'Categoria', 'SubCategoria', 'Valor_Venda'],\n",
       "      dtype='object')"
      ]
     },
     "execution_count": 8,
     "metadata": {},
     "output_type": "execute_result"
    }
   ],
   "source": [
    "# Colunas do conjunto de dados\n",
    "df_venda.columns"
   ]
  },
  {
   "cell_type": "code",
   "execution_count": 9,
   "id": "43e7444e",
   "metadata": {},
   "outputs": [
    {
     "data": {
      "text/plain": [
       "ID_Pedido        object\n",
       "Data_Pedido      object\n",
       "ID_Cliente       object\n",
       "Segmento         object\n",
       "Pais             object\n",
       "Cidade           object\n",
       "Estado           object\n",
       "ID_Produto       object\n",
       "Categoria        object\n",
       "SubCategoria     object\n",
       "Valor_Venda     float64\n",
       "dtype: object"
      ]
     },
     "execution_count": 9,
     "metadata": {},
     "output_type": "execute_result"
    }
   ],
   "source": [
    "# Verificando o tipo de dado de cada coluna\n",
    "df_venda.dtypes"
   ]
  },
  {
   "cell_type": "code",
   "execution_count": 10,
   "id": "6f35df70",
   "metadata": {},
   "outputs": [
    {
     "name": "stdout",
     "output_type": "stream",
     "text": [
      "['Furniture' 'Office Supplies' 'Technology']\n"
     ]
    }
   ],
   "source": [
    "# Conferindo os valores únicos da coluna 'Categoria'\n",
    "categorias = df_venda['Categoria'].unique()\n",
    "print(categorias)"
   ]
  },
  {
   "cell_type": "code",
   "execution_count": 11,
   "id": "9231e241",
   "metadata": {},
   "outputs": [
    {
     "name": "stdout",
     "output_type": "stream",
     "text": [
      "['Bookcases' 'Chairs' 'Labels' 'Tables' 'Storage' 'Furnishings' 'Art'\n",
      " 'Phones' 'Binders' 'Appliances' 'Paper' 'Accessories' 'Envelopes'\n",
      " 'Fasteners' 'Supplies' 'Machines' 'Copiers']\n"
     ]
    }
   ],
   "source": [
    "subcategorias = df_venda['SubCategoria'].unique()\n",
    "print(subcategorias)"
   ]
  },
  {
   "cell_type": "code",
   "execution_count": 12,
   "id": "153caa37",
   "metadata": {},
   "outputs": [
    {
     "name": "stdout",
     "output_type": "stream",
     "text": [
      "['Consumer' 'Corporate' 'Home Office']\n"
     ]
    }
   ],
   "source": [
    "segmento = df_venda['Segmento'].unique()\n",
    "print(segmento)"
   ]
  },
  {
   "cell_type": "code",
   "execution_count": 14,
   "id": "d79d7dfc",
   "metadata": {},
   "outputs": [],
   "source": [
    "# Substituindo os valores para português da categoria (tradução livre)\n",
    "df_venda.replace({'Furniture': 'Mobiliário', 'Office Supplies': 'Escritório', 'Technology': 'Tecnologia'}, inplace=True)"
   ]
  },
  {
   "cell_type": "code",
   "execution_count": 15,
   "id": "30a718ad",
   "metadata": {},
   "outputs": [],
   "source": [
    "# Substituindo os valores do Segmento\n",
    "df_venda.replace({'Consumer': 'Consumidor', 'Corporate': 'Corporativo'}, inplace=True)"
   ]
  },
  {
   "cell_type": "code",
   "execution_count": 16,
   "id": "f412a73e",
   "metadata": {},
   "outputs": [],
   "source": [
    "# Substituindo os valores da categoria\n",
    "df_venda.replace({'Bookcases': 'Estantes', 'Chairs': 'Cadeiras', 'Labels': 'Etiquetas', \n",
    "                'Tables':'Mesas', 'Storage': 'Armário', 'Furnishings': 'Móveis', 'Art': 'Arte',\n",
    "                'Phones': 'Telefones', 'Binders':'Fichários', 'Appliances':'Eletrodomésticos',\n",
    "                'Paper':'Papel', 'Accessories':'Acessórias', 'Fasteners':'Fixadores',\n",
    "                'Supplies':'Suprimentos', 'Machines':'Máquinas', 'Copiers':'Copiadoras'}, inplace=True)"
   ]
  },
  {
   "cell_type": "code",
   "execution_count": 18,
   "id": "a94b03d9",
   "metadata": {},
   "outputs": [
    {
     "data": {
      "text/html": [
       "<div>\n",
       "<style scoped>\n",
       "    .dataframe tbody tr th:only-of-type {\n",
       "        vertical-align: middle;\n",
       "    }\n",
       "\n",
       "    .dataframe tbody tr th {\n",
       "        vertical-align: top;\n",
       "    }\n",
       "\n",
       "    .dataframe thead th {\n",
       "        text-align: right;\n",
       "    }\n",
       "</style>\n",
       "<table border=\"1\" class=\"dataframe\">\n",
       "  <thead>\n",
       "    <tr style=\"text-align: right;\">\n",
       "      <th></th>\n",
       "      <th>ID_Pedido</th>\n",
       "      <th>Data_Pedido</th>\n",
       "      <th>ID_Cliente</th>\n",
       "      <th>Segmento</th>\n",
       "      <th>Pais</th>\n",
       "      <th>Cidade</th>\n",
       "      <th>Estado</th>\n",
       "      <th>ID_Produto</th>\n",
       "      <th>Categoria</th>\n",
       "      <th>SubCategoria</th>\n",
       "      <th>Valor_Venda</th>\n",
       "    </tr>\n",
       "  </thead>\n",
       "  <tbody>\n",
       "    <tr>\n",
       "      <th>0</th>\n",
       "      <td>CA-2017-152156</td>\n",
       "      <td>08/11/2017</td>\n",
       "      <td>CG-12520</td>\n",
       "      <td>Consumidor</td>\n",
       "      <td>United States</td>\n",
       "      <td>Henderson</td>\n",
       "      <td>Kentucky</td>\n",
       "      <td>FUR-BO-10001798</td>\n",
       "      <td>Mobiliário</td>\n",
       "      <td>Estantes</td>\n",
       "      <td>261.9600</td>\n",
       "    </tr>\n",
       "    <tr>\n",
       "      <th>1</th>\n",
       "      <td>CA-2017-152156</td>\n",
       "      <td>08/11/2017</td>\n",
       "      <td>CG-12520</td>\n",
       "      <td>Consumidor</td>\n",
       "      <td>United States</td>\n",
       "      <td>Henderson</td>\n",
       "      <td>Kentucky</td>\n",
       "      <td>FUR-CH-10000454</td>\n",
       "      <td>Mobiliário</td>\n",
       "      <td>Cadeiras</td>\n",
       "      <td>731.9400</td>\n",
       "    </tr>\n",
       "    <tr>\n",
       "      <th>2</th>\n",
       "      <td>CA-2017-138688</td>\n",
       "      <td>12/06/2017</td>\n",
       "      <td>DV-13045</td>\n",
       "      <td>Corporativo</td>\n",
       "      <td>United States</td>\n",
       "      <td>Los Angeles</td>\n",
       "      <td>California</td>\n",
       "      <td>OFF-LA-10000240</td>\n",
       "      <td>Escritório</td>\n",
       "      <td>Etiquetas</td>\n",
       "      <td>14.6200</td>\n",
       "    </tr>\n",
       "    <tr>\n",
       "      <th>3</th>\n",
       "      <td>US-2016-108966</td>\n",
       "      <td>11/10/2016</td>\n",
       "      <td>SO-20335</td>\n",
       "      <td>Consumidor</td>\n",
       "      <td>United States</td>\n",
       "      <td>Fort Lauderdale</td>\n",
       "      <td>Florida</td>\n",
       "      <td>FUR-TA-10000577</td>\n",
       "      <td>Mobiliário</td>\n",
       "      <td>Mesas</td>\n",
       "      <td>957.5775</td>\n",
       "    </tr>\n",
       "    <tr>\n",
       "      <th>4</th>\n",
       "      <td>US-2016-108966</td>\n",
       "      <td>11/10/2016</td>\n",
       "      <td>SO-20335</td>\n",
       "      <td>Consumidor</td>\n",
       "      <td>United States</td>\n",
       "      <td>Fort Lauderdale</td>\n",
       "      <td>Florida</td>\n",
       "      <td>OFF-ST-10000760</td>\n",
       "      <td>Escritório</td>\n",
       "      <td>Armário</td>\n",
       "      <td>22.3680</td>\n",
       "    </tr>\n",
       "    <tr>\n",
       "      <th>5</th>\n",
       "      <td>CA-2015-115812</td>\n",
       "      <td>09/06/2015</td>\n",
       "      <td>BH-11710</td>\n",
       "      <td>Consumidor</td>\n",
       "      <td>United States</td>\n",
       "      <td>Los Angeles</td>\n",
       "      <td>California</td>\n",
       "      <td>FUR-FU-10001487</td>\n",
       "      <td>Mobiliário</td>\n",
       "      <td>Móveis</td>\n",
       "      <td>48.8600</td>\n",
       "    </tr>\n",
       "    <tr>\n",
       "      <th>6</th>\n",
       "      <td>CA-2015-115812</td>\n",
       "      <td>09/06/2015</td>\n",
       "      <td>BH-11710</td>\n",
       "      <td>Consumidor</td>\n",
       "      <td>United States</td>\n",
       "      <td>Los Angeles</td>\n",
       "      <td>California</td>\n",
       "      <td>OFF-AR-10002833</td>\n",
       "      <td>Escritório</td>\n",
       "      <td>Arte</td>\n",
       "      <td>7.2800</td>\n",
       "    </tr>\n",
       "    <tr>\n",
       "      <th>7</th>\n",
       "      <td>CA-2015-115812</td>\n",
       "      <td>09/06/2015</td>\n",
       "      <td>BH-11710</td>\n",
       "      <td>Consumidor</td>\n",
       "      <td>United States</td>\n",
       "      <td>Los Angeles</td>\n",
       "      <td>California</td>\n",
       "      <td>TEC-PH-10002275</td>\n",
       "      <td>Tecnologia</td>\n",
       "      <td>Telefones</td>\n",
       "      <td>907.1520</td>\n",
       "    </tr>\n",
       "    <tr>\n",
       "      <th>8</th>\n",
       "      <td>CA-2015-115812</td>\n",
       "      <td>09/06/2015</td>\n",
       "      <td>BH-11710</td>\n",
       "      <td>Consumidor</td>\n",
       "      <td>United States</td>\n",
       "      <td>Los Angeles</td>\n",
       "      <td>California</td>\n",
       "      <td>OFF-BI-10003910</td>\n",
       "      <td>Escritório</td>\n",
       "      <td>Fichários</td>\n",
       "      <td>18.5040</td>\n",
       "    </tr>\n",
       "    <tr>\n",
       "      <th>9</th>\n",
       "      <td>CA-2015-115812</td>\n",
       "      <td>09/06/2015</td>\n",
       "      <td>BH-11710</td>\n",
       "      <td>Consumidor</td>\n",
       "      <td>United States</td>\n",
       "      <td>Los Angeles</td>\n",
       "      <td>California</td>\n",
       "      <td>OFF-AP-10002892</td>\n",
       "      <td>Escritório</td>\n",
       "      <td>Eletrodomésticos</td>\n",
       "      <td>114.9000</td>\n",
       "    </tr>\n",
       "  </tbody>\n",
       "</table>\n",
       "</div>"
      ],
      "text/plain": [
       "        ID_Pedido Data_Pedido ID_Cliente     Segmento           Pais  \\\n",
       "0  CA-2017-152156  08/11/2017   CG-12520   Consumidor  United States   \n",
       "1  CA-2017-152156  08/11/2017   CG-12520   Consumidor  United States   \n",
       "2  CA-2017-138688  12/06/2017   DV-13045  Corporativo  United States   \n",
       "3  US-2016-108966  11/10/2016   SO-20335   Consumidor  United States   \n",
       "4  US-2016-108966  11/10/2016   SO-20335   Consumidor  United States   \n",
       "5  CA-2015-115812  09/06/2015   BH-11710   Consumidor  United States   \n",
       "6  CA-2015-115812  09/06/2015   BH-11710   Consumidor  United States   \n",
       "7  CA-2015-115812  09/06/2015   BH-11710   Consumidor  United States   \n",
       "8  CA-2015-115812  09/06/2015   BH-11710   Consumidor  United States   \n",
       "9  CA-2015-115812  09/06/2015   BH-11710   Consumidor  United States   \n",
       "\n",
       "            Cidade      Estado       ID_Produto   Categoria      SubCategoria  \\\n",
       "0        Henderson    Kentucky  FUR-BO-10001798  Mobiliário          Estantes   \n",
       "1        Henderson    Kentucky  FUR-CH-10000454  Mobiliário          Cadeiras   \n",
       "2      Los Angeles  California  OFF-LA-10000240  Escritório         Etiquetas   \n",
       "3  Fort Lauderdale     Florida  FUR-TA-10000577  Mobiliário             Mesas   \n",
       "4  Fort Lauderdale     Florida  OFF-ST-10000760  Escritório           Armário   \n",
       "5      Los Angeles  California  FUR-FU-10001487  Mobiliário            Móveis   \n",
       "6      Los Angeles  California  OFF-AR-10002833  Escritório              Arte   \n",
       "7      Los Angeles  California  TEC-PH-10002275  Tecnologia         Telefones   \n",
       "8      Los Angeles  California  OFF-BI-10003910  Escritório         Fichários   \n",
       "9      Los Angeles  California  OFF-AP-10002892  Escritório  Eletrodomésticos   \n",
       "\n",
       "   Valor_Venda  \n",
       "0     261.9600  \n",
       "1     731.9400  \n",
       "2      14.6200  \n",
       "3     957.5775  \n",
       "4      22.3680  \n",
       "5      48.8600  \n",
       "6       7.2800  \n",
       "7     907.1520  \n",
       "8      18.5040  \n",
       "9     114.9000  "
      ]
     },
     "execution_count": 18,
     "metadata": {},
     "output_type": "execute_result"
    }
   ],
   "source": [
    "df_venda.head(10)"
   ]
  },
  {
   "cell_type": "code",
   "execution_count": 19,
   "id": "eec70bba",
   "metadata": {},
   "outputs": [
    {
     "data": {
      "text/plain": [
       "count     9700.000000\n",
       "mean       230.469892\n",
       "std        627.504252\n",
       "min          0.444000\n",
       "25%         17.248000\n",
       "50%         54.272000\n",
       "75%        209.932500\n",
       "max      22638.480000\n",
       "Name: Valor_Venda, dtype: float64"
      ]
     },
     "execution_count": 19,
     "metadata": {},
     "output_type": "execute_result"
    }
   ],
   "source": [
    "# Resumo estatístico da coluna com o valor de venda\n",
    "df_venda['Valor_Venda'].describe()"
   ]
  },
  {
   "cell_type": "code",
   "execution_count": 10,
   "id": "b8165a80",
   "metadata": {},
   "outputs": [
    {
     "data": {
      "text/html": [
       "<div>\n",
       "<style scoped>\n",
       "    .dataframe tbody tr th:only-of-type {\n",
       "        vertical-align: middle;\n",
       "    }\n",
       "\n",
       "    .dataframe tbody tr th {\n",
       "        vertical-align: top;\n",
       "    }\n",
       "\n",
       "    .dataframe thead th {\n",
       "        text-align: right;\n",
       "    }\n",
       "</style>\n",
       "<table border=\"1\" class=\"dataframe\">\n",
       "  <thead>\n",
       "    <tr style=\"text-align: right;\">\n",
       "      <th></th>\n",
       "      <th>ID_Pedido</th>\n",
       "      <th>Data_Pedido</th>\n",
       "      <th>ID_Cliente</th>\n",
       "      <th>Segmento</th>\n",
       "      <th>Pais</th>\n",
       "      <th>Cidade</th>\n",
       "      <th>Estado</th>\n",
       "      <th>ID_Produto</th>\n",
       "      <th>Categoria</th>\n",
       "      <th>SubCategoria</th>\n",
       "      <th>Valor_Venda</th>\n",
       "    </tr>\n",
       "  </thead>\n",
       "  <tbody>\n",
       "  </tbody>\n",
       "</table>\n",
       "</div>"
      ],
      "text/plain": [
       "Empty DataFrame\n",
       "Columns: [ID_Pedido, Data_Pedido, ID_Cliente, Segmento, Pais, Cidade, Estado, ID_Produto, Categoria, SubCategoria, Valor_Venda]\n",
       "Index: []"
      ]
     },
     "execution_count": 10,
     "metadata": {},
     "output_type": "execute_result"
    }
   ],
   "source": [
    "# Verificando se há registros duplicados\n",
    "df_dsa[df_dsa.duplicated()]"
   ]
  },
  {
   "cell_type": "code",
   "execution_count": 20,
   "id": "936d1045",
   "metadata": {},
   "outputs": [
    {
     "data": {
      "text/plain": [
       "ID_Pedido       0\n",
       "Data_Pedido     0\n",
       "ID_Cliente      0\n",
       "Segmento        0\n",
       "Pais            0\n",
       "Cidade          0\n",
       "Estado          0\n",
       "ID_Produto      0\n",
       "Categoria       0\n",
       "SubCategoria    0\n",
       "Valor_Venda     0\n",
       "dtype: int64"
      ]
     },
     "execution_count": 20,
     "metadata": {},
     "output_type": "execute_result"
    }
   ],
   "source": [
    "# Verificando de há valores ausentes\n",
    "df_venda.isnull().sum()"
   ]
  },
  {
   "cell_type": "markdown",
   "id": "78c23315",
   "metadata": {},
   "source": [
    "## Pergunta de Negócio 1:\n",
    "\n",
    "### Qual Cidade com Maior Valor de Venda de Produtos da Categoria 'Mobiliário'?"
   ]
  },
  {
   "cell_type": "code",
   "execution_count": 21,
   "id": "69296d71",
   "metadata": {},
   "outputs": [],
   "source": [
    "# Primeiro filtramos o dataframe com os registros da categoria que desejamos\n",
    "df_venda_p1 = df_venda[df_venda['Categoria'] == 'Mobiliário']"
   ]
  },
  {
   "cell_type": "code",
   "execution_count": 22,
   "id": "3faec6b2",
   "metadata": {},
   "outputs": [],
   "source": [
    "# Em seguida agrupamos por cidade e calculamos o total de valor_venda\n",
    "df_venda_p1_total = df_venda_p1.groupby('Cidade')['Valor_Venda'].sum()"
   ]
  },
  {
   "cell_type": "code",
   "execution_count": 25,
   "id": "dc18e543",
   "metadata": {},
   "outputs": [
    {
     "name": "stdout",
     "output_type": "stream",
     "text": [
      "Cidade com maior valor de venda para 'Mobiliário': \u001b[34mNew York City\u001b[0m\n"
     ]
    }
   ],
   "source": [
    "# Então encontramos a cidade com maior valor de venda\n",
    "cidade_maior_venda = df_venda_p1_total.idxmax()\n",
    "print(\"Cidade com maior valor de venda para 'Mobiliário':\", Fore.BLUE + cidade_maior_venda + Style.RESET_ALL)"
   ]
  },
  {
   "cell_type": "code",
   "execution_count": 26,
   "id": "543561e5",
   "metadata": {},
   "outputs": [
    {
     "data": {
      "text/plain": [
       "Cidade\n",
       "New York City     74496.239\n",
       "Los Angeles       52446.621\n",
       "Seattle           37602.198\n",
       "Philadelphia      36221.973\n",
       "San Francisco     34683.662\n",
       "                    ...    \n",
       "Hillsboro            11.032\n",
       "San Marcos           10.332\n",
       "Garland               8.544\n",
       "Cuyahoga Falls        8.352\n",
       "Mesquite              6.368\n",
       "Name: Valor_Venda, Length: 365, dtype: float64"
      ]
     },
     "execution_count": 26,
     "metadata": {},
     "output_type": "execute_result"
    }
   ],
   "source": [
    "# Para conferir o resultado\n",
    "df_venda_p1_total.sort_values(ascending = False)"
   ]
  },
  {
   "cell_type": "markdown",
   "id": "5e8b3f43",
   "metadata": {},
   "source": [
    "## Pergunta de Negócio 2 de 1:\n",
    " \n",
    "### Qual Cidade com Menor  Valor de Venda de Produtos da Categoria 'Mobiliário'?"
   ]
  },
  {
   "cell_type": "code",
   "execution_count": 27,
   "id": "43e33e94",
   "metadata": {},
   "outputs": [
    {
     "name": "stdout",
     "output_type": "stream",
     "text": [
      "Cidade com menor valor de venda para 'Mobiliário': \u001b[34mMesquite\u001b[0m\n"
     ]
    }
   ],
   "source": [
    "# Com a função idxmin() encontramos a cidade com menor valor de venda\n",
    "cidade_menor_venda = df_venda_p1_total.idxmin()\n",
    "print(\"Cidade com menor valor de venda para 'Mobiliário':\", Fore.BLUE + cidade_menor_venda + Style.RESET_ALL)"
   ]
  },
  {
   "cell_type": "markdown",
   "id": "b2257a7b",
   "metadata": {},
   "source": [
    "## Pergunta de Negócio 2:\n",
    "\n",
    "### Qual o Total de Vendas Por Data do Pedido?\n",
    "\n",
    "Demonstre o resultado através de um gráfico de barras."
   ]
  },
  {
   "cell_type": "code",
   "execution_count": 28,
   "id": "56723321",
   "metadata": {},
   "outputs": [],
   "source": [
    "df_venda['Data_Pedido'] = pd.to_datetime(df_venda['Data_Pedido'], dayfirst= True)"
   ]
  },
  {
   "cell_type": "code",
   "execution_count": 29,
   "id": "df6ed996",
   "metadata": {},
   "outputs": [],
   "source": [
    "# Calculamos o total de vendas para cada data de pedido\n",
    "df_venda_p2 = df_venda.groupby('Data_Pedido')['Valor_Venda'].sum()"
   ]
  },
  {
   "cell_type": "code",
   "execution_count": 30,
   "id": "c5c7c4b1",
   "metadata": {},
   "outputs": [
    {
     "data": {
      "text/plain": [
       "Data_Pedido\n",
       "2015-01-03      16.448\n",
       "2015-01-04     288.060\n",
       "2015-01-05      19.536\n",
       "2015-01-06    4407.100\n",
       "2015-01-07      87.158\n",
       "2015-01-09      40.544\n",
       "2015-01-10      54.830\n",
       "2015-01-11       9.940\n",
       "2015-01-13    3553.795\n",
       "2015-01-14      61.960\n",
       "2015-01-15     149.950\n",
       "2015-01-16     299.964\n",
       "2015-01-18      64.864\n",
       "2015-01-19     378.594\n",
       "2015-01-20    2673.870\n",
       "Name: Valor_Venda, dtype: float64"
      ]
     },
     "execution_count": 30,
     "metadata": {},
     "output_type": "execute_result"
    }
   ],
   "source": [
    "df_venda_p2.head(15)"
   ]
  },
  {
   "cell_type": "markdown",
   "id": "2888bdee",
   "metadata": {},
   "source": [
    "Obs: a variável categórica Data_Pedido foi convertida em série temporal."
   ]
  },
  {
   "cell_type": "code",
   "execution_count": 31,
   "id": "d0dddb2a",
   "metadata": {},
   "outputs": [
    {
     "data": {
      "image/png": "[encoded data removed]",
      "text/plain": [
       "<Figure size 1440x432 with 1 Axes>"
      ]
     },
     "metadata": {
      "needs_background": "light"
     },
     "output_type": "display_data"
    }
   ],
   "source": [
    "# Crie o gráfico\n",
    "plt.figure(figsize=(20, 6))\n",
    "df_venda_p2.plot( x = 'Data_Pedido', y = 'Valor_Venda', color='y')\n",
    "plt.title('Total de Vendas Por Data do Pedido')\n",
    "plt.xlabel('Data do Pedido')\n",
    "plt.ylabel('Valor da Venda')\n",
    "plt.show()"
   ]
  },
  {
   "cell_type": "markdown",
   "id": "2c27a9db",
   "metadata": {},
   "source": [
    "## Pergunta de Negócio 3:\n",
    "\n",
    "### Qual o Total de Vendas por Estado?\n",
    "\n",
    "Demonstre o resultado através de um gráfico de barras."
   ]
  },
  {
   "cell_type": "code",
   "execution_count": 32,
   "id": "2187c6b6",
   "metadata": {},
   "outputs": [],
   "source": [
    "# Agrupamos por estado e calculamos o total de vendas\n",
    "df_venda_p3 = df_venda.groupby('Estado')['Valor_Venda'].sum().reset_index()"
   ]
  },
  {
   "cell_type": "code",
   "execution_count": 33,
   "id": "000f809e",
   "metadata": {},
   "outputs": [
    {
     "data": {
      "image/png": "[encoded data removed]",
      "text/plain": [
       "<Figure size 1152x432 with 1 Axes>"
      ]
     },
     "metadata": {
      "needs_background": "light"
     },
     "output_type": "display_data"
    }
   ],
   "source": [
    "# Plot\n",
    "plt.figure(figsize=(16, 6))\n",
    "sns.barplot(data = df_venda_p3, \n",
    "            y = 'Valor_Venda', \n",
    "            x = 'Estado').set(title = 'Vendas Por Estado')\n",
    "plt.xticks(rotation = 80)\n",
    "plt.show()"
   ]
  },
  {
   "cell_type": "markdown",
   "id": "ac63cfc4",
   "metadata": {},
   "source": [
    "## Pergunta de Negócio 4:\n",
    "\n",
    "### Quais São as 10 Cidades com Maior Total de Vendas?\n",
    "\n",
    "Demonstre o resultado através de um gráfico de barras."
   ]
  },
  {
   "cell_type": "code",
   "execution_count": 34,
   "id": "042ef540",
   "metadata": {},
   "outputs": [],
   "source": [
    "# Agrupamos por cidade, calculamos o total de vendas e ordenamos listando somente os 10 primeiros registros\n",
    "df_venda_p4 = df_venda.groupby('Cidade')['Valor_Venda'].sum().reset_index().sort_values(by = 'Valor_Venda',\n",
    "                                                                                       ascending = False).head(10)"
   ]
  },
  {
   "cell_type": "code",
   "execution_count": 35,
   "id": "2398a314",
   "metadata": {},
   "outputs": [
    {
     "data": {
      "text/html": [
       "<div>\n",
       "<style scoped>\n",
       "    .dataframe tbody tr th:only-of-type {\n",
       "        vertical-align: middle;\n",
       "    }\n",
       "\n",
       "    .dataframe tbody tr th {\n",
       "        vertical-align: top;\n",
       "    }\n",
       "\n",
       "    .dataframe thead th {\n",
       "        text-align: right;\n",
       "    }\n",
       "</style>\n",
       "<table border=\"1\" class=\"dataframe\">\n",
       "  <thead>\n",
       "    <tr style=\"text-align: right;\">\n",
       "      <th></th>\n",
       "      <th>Cidade</th>\n",
       "      <th>Valor_Venda</th>\n",
       "    </tr>\n",
       "  </thead>\n",
       "  <tbody>\n",
       "    <tr>\n",
       "      <th>327</th>\n",
       "      <td>New York City</td>\n",
       "      <td>251749.2190</td>\n",
       "    </tr>\n",
       "    <tr>\n",
       "      <th>265</th>\n",
       "      <td>Los Angeles</td>\n",
       "      <td>171654.6330</td>\n",
       "    </tr>\n",
       "    <tr>\n",
       "      <th>450</th>\n",
       "      <td>Seattle</td>\n",
       "      <td>114725.4780</td>\n",
       "    </tr>\n",
       "    <tr>\n",
       "      <th>436</th>\n",
       "      <td>San Francisco</td>\n",
       "      <td>107489.9520</td>\n",
       "    </tr>\n",
       "    <tr>\n",
       "      <th>372</th>\n",
       "      <td>Philadelphia</td>\n",
       "      <td>107197.8030</td>\n",
       "    </tr>\n",
       "    <tr>\n",
       "      <th>207</th>\n",
       "      <td>Houston</td>\n",
       "      <td>61590.1868</td>\n",
       "    </tr>\n",
       "    <tr>\n",
       "      <th>435</th>\n",
       "      <td>San Diego</td>\n",
       "      <td>47458.3790</td>\n",
       "    </tr>\n",
       "    <tr>\n",
       "      <th>80</th>\n",
       "      <td>Chicago</td>\n",
       "      <td>46974.3430</td>\n",
       "    </tr>\n",
       "    <tr>\n",
       "      <th>216</th>\n",
       "      <td>Jacksonville</td>\n",
       "      <td>44713.1830</td>\n",
       "    </tr>\n",
       "    <tr>\n",
       "      <th>123</th>\n",
       "      <td>Detroit</td>\n",
       "      <td>42446.9440</td>\n",
       "    </tr>\n",
       "  </tbody>\n",
       "</table>\n",
       "</div>"
      ],
      "text/plain": [
       "            Cidade  Valor_Venda\n",
       "327  New York City  251749.2190\n",
       "265    Los Angeles  171654.6330\n",
       "450        Seattle  114725.4780\n",
       "436  San Francisco  107489.9520\n",
       "372   Philadelphia  107197.8030\n",
       "207        Houston   61590.1868\n",
       "435      San Diego   47458.3790\n",
       "80         Chicago   46974.3430\n",
       "216   Jacksonville   44713.1830\n",
       "123        Detroit   42446.9440"
      ]
     },
     "execution_count": 35,
     "metadata": {},
     "output_type": "execute_result"
    }
   ],
   "source": [
    "df_venda_p4.head(10)"
   ]
  },
  {
   "cell_type": "code",
   "execution_count": 36,
   "id": "b96b6a84",
   "metadata": {},
   "outputs": [
    {
     "data": {
      "image/png": "[encoded data removed]",
      "text/plain": [
       "<Figure size 1152x432 with 1 Axes>"
      ]
     },
     "metadata": {
      "needs_background": "light"
     },
     "output_type": "display_data"
    }
   ],
   "source": [
    "# Plot\n",
    "plt.figure(figsize=(16, 6))\n",
    "sns.set_palette('coolwarm')\n",
    "sns.barplot(data = df_venda_p4, \n",
    "            y = 'Valor_Venda', \n",
    "            x = 'Cidade').set(title = '10 Cidades com Maior Total de Vendas')\n",
    "plt.xticks(rotation = 80)\n",
    "plt.show()"
   ]
  },
  {
   "cell_type": "markdown",
   "id": "4831dc06",
   "metadata": {},
   "source": [
    "## Pergunta de Negócio 5:\n",
    "\n",
    "### Qual Segmento Teve o Maior Total de Vendas?\n",
    "\n",
    "Demonstre o resultado através de um gráfico de pizza."
   ]
  },
  {
   "cell_type": "code",
   "execution_count": 37,
   "id": "70c90a68",
   "metadata": {},
   "outputs": [],
   "source": [
    "# Agrupamos por segmento e calculamos o total de vendas\n",
    "df_venda_p5 = df_venda.groupby('Segmento')['Valor_Venda'].sum().reset_index().sort_values(by = 'Valor_Venda',\n",
    "                                                                                          ascending = False)"
   ]
  },
  {
   "cell_type": "code",
   "execution_count": 38,
   "id": "7454f107",
   "metadata": {},
   "outputs": [
    {
     "data": {
      "text/html": [
       "<div>\n",
       "<style scoped>\n",
       "    .dataframe tbody tr th:only-of-type {\n",
       "        vertical-align: middle;\n",
       "    }\n",
       "\n",
       "    .dataframe tbody tr th {\n",
       "        vertical-align: top;\n",
       "    }\n",
       "\n",
       "    .dataframe thead th {\n",
       "        text-align: right;\n",
       "    }\n",
       "</style>\n",
       "<table border=\"1\" class=\"dataframe\">\n",
       "  <thead>\n",
       "    <tr style=\"text-align: right;\">\n",
       "      <th></th>\n",
       "      <th>Segmento</th>\n",
       "      <th>Valor_Venda</th>\n",
       "    </tr>\n",
       "  </thead>\n",
       "  <tbody>\n",
       "    <tr>\n",
       "      <th>0</th>\n",
       "      <td>Consumidor</td>\n",
       "      <td>1.133834e+06</td>\n",
       "    </tr>\n",
       "    <tr>\n",
       "      <th>1</th>\n",
       "      <td>Corporativo</td>\n",
       "      <td>6.792322e+05</td>\n",
       "    </tr>\n",
       "    <tr>\n",
       "      <th>2</th>\n",
       "      <td>Home Office</td>\n",
       "      <td>4.224914e+05</td>\n",
       "    </tr>\n",
       "  </tbody>\n",
       "</table>\n",
       "</div>"
      ],
      "text/plain": [
       "      Segmento   Valor_Venda\n",
       "0   Consumidor  1.133834e+06\n",
       "1  Corporativo  6.792322e+05\n",
       "2  Home Office  4.224914e+05"
      ]
     },
     "execution_count": 38,
     "metadata": {},
     "output_type": "execute_result"
    }
   ],
   "source": [
    "df_venda_p5.head()"
   ]
  },
  {
   "cell_type": "code",
   "execution_count": 88,
   "id": "f1bf8c65",
   "metadata": {},
   "outputs": [],
   "source": [
    "# Função para converter os dados em valor absoluto\n",
    "def autopct_format(values):\n",
    "    def my_format(pct):\n",
    "        total = sum(values)\n",
    "        val = int(round(pct * total / 100.0))\n",
    "        return ' R$ {v:d}'.format(v = val)\n",
    "    return my_format"
   ]
  },
  {
   "cell_type": "code",
   "execution_count": 89,
   "id": "1ed6acb4",
   "metadata": {},
   "outputs": [
    {
     "data": {
      "image/png": "[encoded data removed]",
      "text/plain": [
       "<Figure size 1152x432 with 1 Axes>"
      ]
     },
     "metadata": {},
     "output_type": "display_data"
    }
   ],
   "source": [
    "# Plot\n",
    "\n",
    "# Tamanho da figura\n",
    "plt.figure(figsize= (16, 6))\n",
    "\n",
    "# Gráfico de pizza\n",
    "plt.pie(df_venda_p5['Valor_Venda'],\n",
    "        labels = df_venda_p5['Segmento'],\n",
    "        autopct = autopct_format(df_venda_p5['Valor_Venda'] * 4.91),\n",
    "        startangle = 90) # Aproveitando para converter para moeda nacional\n",
    "# Limpa o círculo central \n",
    "centre_circle = plt.Circle((0, 0), 0.82, fc = 'white')\n",
    "fig = plt.gcf()\n",
    "fig.gca().add_artist(centre_circle)\n",
    "\n",
    "# Labels e anotações \n",
    "plt.annotate(text =\n",
    "             'Total de Vendas: ' + 'R$ '+ str(int(sum(df_venda_p5['Valor_Venda'] * 4.91))), xy = (-0.25, 0))\n",
    "plt.title('Total de Vendas Por Segmento')\n",
    "plt.show()\n"
   ]
  },
  {
   "cell_type": "markdown",
   "id": "8eb0ea56",
   "metadata": {},
   "source": [
    "## Pergunta de Negócio 6:\n",
    "\n",
    "### Qual o Total de Vendas Por Segmento e Por Ano?"
   ]
  },
  {
   "cell_type": "code",
   "execution_count": 44,
   "id": "a16de64c",
   "metadata": {},
   "outputs": [
    {
     "data": {
      "text/html": [
       "<div>\n",
       "<style scoped>\n",
       "    .dataframe tbody tr th:only-of-type {\n",
       "        vertical-align: middle;\n",
       "    }\n",
       "\n",
       "    .dataframe tbody tr th {\n",
       "        vertical-align: top;\n",
       "    }\n",
       "\n",
       "    .dataframe thead th {\n",
       "        text-align: right;\n",
       "    }\n",
       "</style>\n",
       "<table border=\"1\" class=\"dataframe\">\n",
       "  <thead>\n",
       "    <tr style=\"text-align: right;\">\n",
       "      <th></th>\n",
       "      <th>ID_Pedido</th>\n",
       "      <th>Data_Pedido</th>\n",
       "      <th>ID_Cliente</th>\n",
       "      <th>Segmento</th>\n",
       "      <th>Pais</th>\n",
       "      <th>Cidade</th>\n",
       "      <th>Estado</th>\n",
       "      <th>ID_Produto</th>\n",
       "      <th>Categoria</th>\n",
       "      <th>SubCategoria</th>\n",
       "      <th>Valor_Venda</th>\n",
       "    </tr>\n",
       "  </thead>\n",
       "  <tbody>\n",
       "    <tr>\n",
       "      <th>0</th>\n",
       "      <td>CA-2017-152156</td>\n",
       "      <td>2017-11-08</td>\n",
       "      <td>CG-12520</td>\n",
       "      <td>Consumidor</td>\n",
       "      <td>United States</td>\n",
       "      <td>Henderson</td>\n",
       "      <td>Kentucky</td>\n",
       "      <td>FUR-BO-10001798</td>\n",
       "      <td>Mobiliário</td>\n",
       "      <td>Estantes</td>\n",
       "      <td>261.9600</td>\n",
       "    </tr>\n",
       "    <tr>\n",
       "      <th>1</th>\n",
       "      <td>CA-2017-152156</td>\n",
       "      <td>2017-11-08</td>\n",
       "      <td>CG-12520</td>\n",
       "      <td>Consumidor</td>\n",
       "      <td>United States</td>\n",
       "      <td>Henderson</td>\n",
       "      <td>Kentucky</td>\n",
       "      <td>FUR-CH-10000454</td>\n",
       "      <td>Mobiliário</td>\n",
       "      <td>Cadeiras</td>\n",
       "      <td>731.9400</td>\n",
       "    </tr>\n",
       "    <tr>\n",
       "      <th>2</th>\n",
       "      <td>CA-2017-138688</td>\n",
       "      <td>2017-06-12</td>\n",
       "      <td>DV-13045</td>\n",
       "      <td>Corporativo</td>\n",
       "      <td>United States</td>\n",
       "      <td>Los Angeles</td>\n",
       "      <td>California</td>\n",
       "      <td>OFF-LA-10000240</td>\n",
       "      <td>Escritório</td>\n",
       "      <td>Etiquetas</td>\n",
       "      <td>14.6200</td>\n",
       "    </tr>\n",
       "    <tr>\n",
       "      <th>3</th>\n",
       "      <td>US-2016-108966</td>\n",
       "      <td>2016-10-11</td>\n",
       "      <td>SO-20335</td>\n",
       "      <td>Consumidor</td>\n",
       "      <td>United States</td>\n",
       "      <td>Fort Lauderdale</td>\n",
       "      <td>Florida</td>\n",
       "      <td>FUR-TA-10000577</td>\n",
       "      <td>Mobiliário</td>\n",
       "      <td>Mesas</td>\n",
       "      <td>957.5775</td>\n",
       "    </tr>\n",
       "    <tr>\n",
       "      <th>4</th>\n",
       "      <td>US-2016-108966</td>\n",
       "      <td>2016-10-11</td>\n",
       "      <td>SO-20335</td>\n",
       "      <td>Consumidor</td>\n",
       "      <td>United States</td>\n",
       "      <td>Fort Lauderdale</td>\n",
       "      <td>Florida</td>\n",
       "      <td>OFF-ST-10000760</td>\n",
       "      <td>Escritório</td>\n",
       "      <td>Armário</td>\n",
       "      <td>22.3680</td>\n",
       "    </tr>\n",
       "  </tbody>\n",
       "</table>\n",
       "</div>"
      ],
      "text/plain": [
       "        ID_Pedido Data_Pedido ID_Cliente     Segmento           Pais  \\\n",
       "0  CA-2017-152156  2017-11-08   CG-12520   Consumidor  United States   \n",
       "1  CA-2017-152156  2017-11-08   CG-12520   Consumidor  United States   \n",
       "2  CA-2017-138688  2017-06-12   DV-13045  Corporativo  United States   \n",
       "3  US-2016-108966  2016-10-11   SO-20335   Consumidor  United States   \n",
       "4  US-2016-108966  2016-10-11   SO-20335   Consumidor  United States   \n",
       "\n",
       "            Cidade      Estado       ID_Produto   Categoria SubCategoria  \\\n",
       "0        Henderson    Kentucky  FUR-BO-10001798  Mobiliário     Estantes   \n",
       "1        Henderson    Kentucky  FUR-CH-10000454  Mobiliário     Cadeiras   \n",
       "2      Los Angeles  California  OFF-LA-10000240  Escritório    Etiquetas   \n",
       "3  Fort Lauderdale     Florida  FUR-TA-10000577  Mobiliário        Mesas   \n",
       "4  Fort Lauderdale     Florida  OFF-ST-10000760  Escritório      Armário   \n",
       "\n",
       "   Valor_Venda  \n",
       "0     261.9600  \n",
       "1     731.9400  \n",
       "2      14.6200  \n",
       "3     957.5775  \n",
       "4      22.3680  "
      ]
     },
     "execution_count": 44,
     "metadata": {},
     "output_type": "execute_result"
    }
   ],
   "source": [
    "df_venda.head()"
   ]
  },
  {
   "cell_type": "code",
   "execution_count": 45,
   "id": "14f10869",
   "metadata": {},
   "outputs": [],
   "source": [
    "# Convertemos a coluna de data para o tipo datetime para obter o formato adequado\n",
    "df_venda['Data_Pedido'] = pd.to_datetime(df_venda['Data_Pedido'], dayfirst= True)"
   ]
  },
  {
   "cell_type": "code",
   "execution_count": 47,
   "id": "2e9bc1ea",
   "metadata": {},
   "outputs": [
    {
     "data": {
      "text/plain": [
       "ID_Pedido               object\n",
       "Data_Pedido     datetime64[ns]\n",
       "ID_Cliente              object\n",
       "Segmento                object\n",
       "Pais                    object\n",
       "Cidade                  object\n",
       "Estado                  object\n",
       "ID_Produto              object\n",
       "Categoria               object\n",
       "SubCategoria            object\n",
       "Valor_Venda            float64\n",
       "dtype: object"
      ]
     },
     "execution_count": 47,
     "metadata": {},
     "output_type": "execute_result"
    }
   ],
   "source": [
    "df_venda.dtypes"
   ]
  },
  {
   "cell_type": "code",
   "execution_count": 48,
   "id": "df107149",
   "metadata": {},
   "outputs": [],
   "source": [
    "# Extraímos o ano criando nova variável\n",
    "df_venda['Ano'] = df_venda['Data_Pedido'].dt.year"
   ]
  },
  {
   "cell_type": "code",
   "execution_count": 50,
   "id": "bd908319",
   "metadata": {},
   "outputs": [
    {
     "data": {
      "text/html": [
       "<div>\n",
       "<style scoped>\n",
       "    .dataframe tbody tr th:only-of-type {\n",
       "        vertical-align: middle;\n",
       "    }\n",
       "\n",
       "    .dataframe tbody tr th {\n",
       "        vertical-align: top;\n",
       "    }\n",
       "\n",
       "    .dataframe thead th {\n",
       "        text-align: right;\n",
       "    }\n",
       "</style>\n",
       "<table border=\"1\" class=\"dataframe\">\n",
       "  <thead>\n",
       "    <tr style=\"text-align: right;\">\n",
       "      <th></th>\n",
       "      <th>ID_Pedido</th>\n",
       "      <th>Data_Pedido</th>\n",
       "      <th>ID_Cliente</th>\n",
       "      <th>Segmento</th>\n",
       "      <th>Pais</th>\n",
       "      <th>Cidade</th>\n",
       "      <th>Estado</th>\n",
       "      <th>ID_Produto</th>\n",
       "      <th>Categoria</th>\n",
       "      <th>SubCategoria</th>\n",
       "      <th>Valor_Venda</th>\n",
       "      <th>Ano</th>\n",
       "    </tr>\n",
       "  </thead>\n",
       "  <tbody>\n",
       "    <tr>\n",
       "      <th>0</th>\n",
       "      <td>CA-2017-152156</td>\n",
       "      <td>2017-11-08</td>\n",
       "      <td>CG-12520</td>\n",
       "      <td>Consumidor</td>\n",
       "      <td>United States</td>\n",
       "      <td>Henderson</td>\n",
       "      <td>Kentucky</td>\n",
       "      <td>FUR-BO-10001798</td>\n",
       "      <td>Mobiliário</td>\n",
       "      <td>Estantes</td>\n",
       "      <td>261.9600</td>\n",
       "      <td>2017</td>\n",
       "    </tr>\n",
       "    <tr>\n",
       "      <th>1</th>\n",
       "      <td>CA-2017-152156</td>\n",
       "      <td>2017-11-08</td>\n",
       "      <td>CG-12520</td>\n",
       "      <td>Consumidor</td>\n",
       "      <td>United States</td>\n",
       "      <td>Henderson</td>\n",
       "      <td>Kentucky</td>\n",
       "      <td>FUR-CH-10000454</td>\n",
       "      <td>Mobiliário</td>\n",
       "      <td>Cadeiras</td>\n",
       "      <td>731.9400</td>\n",
       "      <td>2017</td>\n",
       "    </tr>\n",
       "    <tr>\n",
       "      <th>2</th>\n",
       "      <td>CA-2017-138688</td>\n",
       "      <td>2017-06-12</td>\n",
       "      <td>DV-13045</td>\n",
       "      <td>Corporativo</td>\n",
       "      <td>United States</td>\n",
       "      <td>Los Angeles</td>\n",
       "      <td>California</td>\n",
       "      <td>OFF-LA-10000240</td>\n",
       "      <td>Escritório</td>\n",
       "      <td>Etiquetas</td>\n",
       "      <td>14.6200</td>\n",
       "      <td>2017</td>\n",
       "    </tr>\n",
       "    <tr>\n",
       "      <th>3</th>\n",
       "      <td>US-2016-108966</td>\n",
       "      <td>2016-10-11</td>\n",
       "      <td>SO-20335</td>\n",
       "      <td>Consumidor</td>\n",
       "      <td>United States</td>\n",
       "      <td>Fort Lauderdale</td>\n",
       "      <td>Florida</td>\n",
       "      <td>FUR-TA-10000577</td>\n",
       "      <td>Mobiliário</td>\n",
       "      <td>Mesas</td>\n",
       "      <td>957.5775</td>\n",
       "      <td>2016</td>\n",
       "    </tr>\n",
       "    <tr>\n",
       "      <th>4</th>\n",
       "      <td>US-2016-108966</td>\n",
       "      <td>2016-10-11</td>\n",
       "      <td>SO-20335</td>\n",
       "      <td>Consumidor</td>\n",
       "      <td>United States</td>\n",
       "      <td>Fort Lauderdale</td>\n",
       "      <td>Florida</td>\n",
       "      <td>OFF-ST-10000760</td>\n",
       "      <td>Escritório</td>\n",
       "      <td>Armário</td>\n",
       "      <td>22.3680</td>\n",
       "      <td>2016</td>\n",
       "    </tr>\n",
       "  </tbody>\n",
       "</table>\n",
       "</div>"
      ],
      "text/plain": [
       "        ID_Pedido Data_Pedido ID_Cliente     Segmento           Pais  \\\n",
       "0  CA-2017-152156  2017-11-08   CG-12520   Consumidor  United States   \n",
       "1  CA-2017-152156  2017-11-08   CG-12520   Consumidor  United States   \n",
       "2  CA-2017-138688  2017-06-12   DV-13045  Corporativo  United States   \n",
       "3  US-2016-108966  2016-10-11   SO-20335   Consumidor  United States   \n",
       "4  US-2016-108966  2016-10-11   SO-20335   Consumidor  United States   \n",
       "\n",
       "            Cidade      Estado       ID_Produto   Categoria SubCategoria  \\\n",
       "0        Henderson    Kentucky  FUR-BO-10001798  Mobiliário     Estantes   \n",
       "1        Henderson    Kentucky  FUR-CH-10000454  Mobiliário     Cadeiras   \n",
       "2      Los Angeles  California  OFF-LA-10000240  Escritório    Etiquetas   \n",
       "3  Fort Lauderdale     Florida  FUR-TA-10000577  Mobiliário        Mesas   \n",
       "4  Fort Lauderdale     Florida  OFF-ST-10000760  Escritório      Armário   \n",
       "\n",
       "   Valor_Venda   Ano  \n",
       "0     261.9600  2017  \n",
       "1     731.9400  2017  \n",
       "2      14.6200  2017  \n",
       "3     957.5775  2016  \n",
       "4      22.3680  2016  "
      ]
     },
     "execution_count": 50,
     "metadata": {},
     "output_type": "execute_result"
    }
   ],
   "source": [
    "df_venda.head()"
   ]
  },
  {
   "cell_type": "code",
   "execution_count": 51,
   "id": "ffd16a62",
   "metadata": {},
   "outputs": [],
   "source": [
    "# Total de vendas por segmento e por ano\n",
    "df_venda_p6 = df_venda.groupby(['Ano', 'Segmento'])['Valor_Venda'].sum()"
   ]
  },
  {
   "cell_type": "code",
   "execution_count": 52,
   "id": "e5e06dd2",
   "metadata": {},
   "outputs": [
    {
     "data": {
      "text/plain": [
       "Ano   Segmento   \n",
       "2015  Consumidor     256719.9166\n",
       "      Corporativo    125819.5957\n",
       "      Home Office     88229.0878\n",
       "2016  Consumidor     265295.2593\n",
       "      Corporativo    114643.1229\n",
       "      Home Office     74134.1332\n",
       "2017  Consumidor     288459.5572\n",
       "      Corporativo    203266.7398\n",
       "      Home Office    103639.6270\n",
       "2018  Consumidor     323359.6019\n",
       "      Corporativo    235502.7284\n",
       "      Home Office    156488.5849\n",
       "Name: Valor_Venda, dtype: float64"
      ]
     },
     "execution_count": 52,
     "metadata": {},
     "output_type": "execute_result"
    }
   ],
   "source": [
    "df_venda_p6"
   ]
  },
  {
   "cell_type": "code",
   "execution_count": 53,
   "id": "dcd1dcd6",
   "metadata": {},
   "outputs": [
    {
     "data": {
      "image/png": "[encoded data removed]",
      "text/plain": [
       "<Figure size 1152x432 with 1 Axes>"
      ]
     },
     "metadata": {
      "needs_background": "light"
     },
     "output_type": "display_data"
    }
   ],
   "source": [
    "#plot\n",
    "plt.figure(figsize=(16, 6))\n",
    "ax = df_venda_p6.plot(kind=\"bar\", color = ['g', 'y', 'r'])\n",
    "\n",
    "for p in ax.patches:\n",
    "    ax.annotate(str(round(p.get_height(), 2)\n",
    "    ), (p.get_x() + p.get_width()\n",
    "    / 2., p.get_height()),\n",
    "    ha = 'center', va = 'center',\n",
    "    xytext = (0, 10),\n",
    "    textcoords = 'offset points')\n",
    "    \n",
    "# Adicionar rótulos aos eixos e título ao gráfico\n",
    "plt.xlabel(\"Ano e Segmento\", color='c')\n",
    "plt.ylabel(\"Valor de Venda\", color='c')\n",
    "plt.title(\"Valor de Venda por Ano e Segmento\")\n",
    "plt.xticks(rotation = 70)\n",
    "\n",
    "#obtendo os rótulos atuais do eixo X\n",
    "labels = ax.get_xticklabels()\n",
    "\n",
    "# Alterando a cor dos rótulos do eixo X\n",
    "ax.set_xticklabels(labels, color = 'b')\n",
    "# Mostrar o gráfico\n",
    "plt.show()"
   ]
  },
  {
   "cell_type": "markdown",
   "id": "56fbe644",
   "metadata": {},
   "source": [
    "## Pergunta de Negócio 7:\n",
    "\n",
    "Os gestores da empresa estão considerando conceder diferentes faixas de descontos e gostariam de fazer uma simulação com base na regra abaixo:\n",
    "\n",
    "- Se o Valor_Venda for maior que 1000 recebe 15% de desconto.\n",
    "- Se o Valor_Venda for menor que 1000 recebe 10% de desconto.\n",
    "\n",
    "### Quantas Vendas Receberiam 15% de Desconto?"
   ]
  },
  {
   "cell_type": "code",
   "execution_count": 54,
   "id": "5735af66",
   "metadata": {},
   "outputs": [],
   "source": [
    "# Cria uma nova coluna de acordo com a regra definida acima\n",
    "df_venda['Desconto'] = np.where(df_venda['Valor_Venda'] > 1000, 0.15, 0.10)"
   ]
  },
  {
   "cell_type": "code",
   "execution_count": 55,
   "id": "41833407",
   "metadata": {},
   "outputs": [
    {
     "data": {
      "text/html": [
       "<div>\n",
       "<style scoped>\n",
       "    .dataframe tbody tr th:only-of-type {\n",
       "        vertical-align: middle;\n",
       "    }\n",
       "\n",
       "    .dataframe tbody tr th {\n",
       "        vertical-align: top;\n",
       "    }\n",
       "\n",
       "    .dataframe thead th {\n",
       "        text-align: right;\n",
       "    }\n",
       "</style>\n",
       "<table border=\"1\" class=\"dataframe\">\n",
       "  <thead>\n",
       "    <tr style=\"text-align: right;\">\n",
       "      <th></th>\n",
       "      <th>ID_Pedido</th>\n",
       "      <th>Data_Pedido</th>\n",
       "      <th>ID_Cliente</th>\n",
       "      <th>Segmento</th>\n",
       "      <th>Pais</th>\n",
       "      <th>Cidade</th>\n",
       "      <th>Estado</th>\n",
       "      <th>ID_Produto</th>\n",
       "      <th>Categoria</th>\n",
       "      <th>SubCategoria</th>\n",
       "      <th>Valor_Venda</th>\n",
       "      <th>Ano</th>\n",
       "      <th>Desconto</th>\n",
       "    </tr>\n",
       "  </thead>\n",
       "  <tbody>\n",
       "    <tr>\n",
       "      <th>0</th>\n",
       "      <td>CA-2017-152156</td>\n",
       "      <td>2017-11-08</td>\n",
       "      <td>CG-12520</td>\n",
       "      <td>Consumidor</td>\n",
       "      <td>United States</td>\n",
       "      <td>Henderson</td>\n",
       "      <td>Kentucky</td>\n",
       "      <td>FUR-BO-10001798</td>\n",
       "      <td>Mobiliário</td>\n",
       "      <td>Estantes</td>\n",
       "      <td>261.9600</td>\n",
       "      <td>2017</td>\n",
       "      <td>0.1</td>\n",
       "    </tr>\n",
       "    <tr>\n",
       "      <th>1</th>\n",
       "      <td>CA-2017-152156</td>\n",
       "      <td>2017-11-08</td>\n",
       "      <td>CG-12520</td>\n",
       "      <td>Consumidor</td>\n",
       "      <td>United States</td>\n",
       "      <td>Henderson</td>\n",
       "      <td>Kentucky</td>\n",
       "      <td>FUR-CH-10000454</td>\n",
       "      <td>Mobiliário</td>\n",
       "      <td>Cadeiras</td>\n",
       "      <td>731.9400</td>\n",
       "      <td>2017</td>\n",
       "      <td>0.1</td>\n",
       "    </tr>\n",
       "    <tr>\n",
       "      <th>2</th>\n",
       "      <td>CA-2017-138688</td>\n",
       "      <td>2017-06-12</td>\n",
       "      <td>DV-13045</td>\n",
       "      <td>Corporativo</td>\n",
       "      <td>United States</td>\n",
       "      <td>Los Angeles</td>\n",
       "      <td>California</td>\n",
       "      <td>OFF-LA-10000240</td>\n",
       "      <td>Escritório</td>\n",
       "      <td>Etiquetas</td>\n",
       "      <td>14.6200</td>\n",
       "      <td>2017</td>\n",
       "      <td>0.1</td>\n",
       "    </tr>\n",
       "    <tr>\n",
       "      <th>3</th>\n",
       "      <td>US-2016-108966</td>\n",
       "      <td>2016-10-11</td>\n",
       "      <td>SO-20335</td>\n",
       "      <td>Consumidor</td>\n",
       "      <td>United States</td>\n",
       "      <td>Fort Lauderdale</td>\n",
       "      <td>Florida</td>\n",
       "      <td>FUR-TA-10000577</td>\n",
       "      <td>Mobiliário</td>\n",
       "      <td>Mesas</td>\n",
       "      <td>957.5775</td>\n",
       "      <td>2016</td>\n",
       "      <td>0.1</td>\n",
       "    </tr>\n",
       "    <tr>\n",
       "      <th>4</th>\n",
       "      <td>US-2016-108966</td>\n",
       "      <td>2016-10-11</td>\n",
       "      <td>SO-20335</td>\n",
       "      <td>Consumidor</td>\n",
       "      <td>United States</td>\n",
       "      <td>Fort Lauderdale</td>\n",
       "      <td>Florida</td>\n",
       "      <td>OFF-ST-10000760</td>\n",
       "      <td>Escritório</td>\n",
       "      <td>Armário</td>\n",
       "      <td>22.3680</td>\n",
       "      <td>2016</td>\n",
       "      <td>0.1</td>\n",
       "    </tr>\n",
       "  </tbody>\n",
       "</table>\n",
       "</div>"
      ],
      "text/plain": [
       "        ID_Pedido Data_Pedido ID_Cliente     Segmento           Pais  \\\n",
       "0  CA-2017-152156  2017-11-08   CG-12520   Consumidor  United States   \n",
       "1  CA-2017-152156  2017-11-08   CG-12520   Consumidor  United States   \n",
       "2  CA-2017-138688  2017-06-12   DV-13045  Corporativo  United States   \n",
       "3  US-2016-108966  2016-10-11   SO-20335   Consumidor  United States   \n",
       "4  US-2016-108966  2016-10-11   SO-20335   Consumidor  United States   \n",
       "\n",
       "            Cidade      Estado       ID_Produto   Categoria SubCategoria  \\\n",
       "0        Henderson    Kentucky  FUR-BO-10001798  Mobiliário     Estantes   \n",
       "1        Henderson    Kentucky  FUR-CH-10000454  Mobiliário     Cadeiras   \n",
       "2      Los Angeles  California  OFF-LA-10000240  Escritório    Etiquetas   \n",
       "3  Fort Lauderdale     Florida  FUR-TA-10000577  Mobiliário        Mesas   \n",
       "4  Fort Lauderdale     Florida  OFF-ST-10000760  Escritório      Armário   \n",
       "\n",
       "   Valor_Venda   Ano  Desconto  \n",
       "0     261.9600  2017       0.1  \n",
       "1     731.9400  2017       0.1  \n",
       "2      14.6200  2017       0.1  \n",
       "3     957.5775  2016       0.1  \n",
       "4      22.3680  2016       0.1  "
      ]
     },
     "execution_count": 55,
     "metadata": {},
     "output_type": "execute_result"
    }
   ],
   "source": [
    "df_venda.head()"
   ]
  },
  {
   "cell_type": "code",
   "execution_count": 56,
   "id": "03e36cd3",
   "metadata": {},
   "outputs": [],
   "source": [
    "# Filtrar as vendas que receberiam 10% de desconto\n",
    "vendas_com_desconto_10 = df_venda[df_venda['Desconto'] == 0.10]"
   ]
  },
  {
   "cell_type": "code",
   "execution_count": 57,
   "id": "d963796c",
   "metadata": {},
   "outputs": [],
   "source": [
    "# Obter o número de vendas com 10% de desconto\n",
    "quantidade_vendas_com_desconto_10 = len(vendas_com_desconto_10)"
   ]
  },
  {
   "cell_type": "code",
   "execution_count": 58,
   "id": "28d274b7",
   "metadata": {},
   "outputs": [
    {
     "name": "stdout",
     "output_type": "stream",
     "text": [
      "Quantidade de vendas com 10% de desconto: 9243\n"
     ]
    }
   ],
   "source": [
    "print(f'Quantidade de vendas com 10% de desconto: {quantidade_vendas_com_desconto_10}')"
   ]
  },
  {
   "cell_type": "code",
   "execution_count": 59,
   "id": "28a447e6",
   "metadata": {},
   "outputs": [],
   "source": [
    "# Filtrar as vendas que receberiam 15% de desconto\n",
    "vendas_com_desconto_15 = df_venda[df_venda['Desconto'] == 0.15]"
   ]
  },
  {
   "cell_type": "code",
   "execution_count": 60,
   "id": "606ef8e3",
   "metadata": {},
   "outputs": [],
   "source": [
    "# Obter o número de vendas com 15% de desconto\n",
    "quantidade_vendas_com_desconto_15 = len(vendas_com_desconto_15)"
   ]
  },
  {
   "cell_type": "code",
   "execution_count": 61,
   "id": "0c786e6a",
   "metadata": {},
   "outputs": [
    {
     "name": "stdout",
     "output_type": "stream",
     "text": [
      "Quantidade de vendas com 15% de desconto: 457\n"
     ]
    }
   ],
   "source": [
    "print(f'Quantidade de vendas com 15% de desconto: {quantidade_vendas_com_desconto_15}')"
   ]
  },
  {
   "cell_type": "markdown",
   "id": "f313c42a",
   "metadata": {},
   "source": [
    "## Pergunta de Negócio 8:\n",
    "### Considere Que a Empresa Decida Conceder o Desconto de 15% do Item Anterior. Qual Seria a Média do Valor de Venda Antes e Depois do Desconto?"
   ]
  },
  {
   "cell_type": "code",
   "execution_count": 62,
   "id": "47b8f2a4",
   "metadata": {},
   "outputs": [],
   "source": [
    "# Criamos uma coluna calculando o valor de venda menos o desconto\n",
    "df_venda['Valor_Venda_com_Desconto'] = df_venda['Valor_Venda'] - (df_venda['Valor_Venda'] * df_venda['Desconto'])"
   ]
  },
  {
   "cell_type": "code",
   "execution_count": 64,
   "id": "98bd7542",
   "metadata": {},
   "outputs": [
    {
     "data": {
      "text/html": [
       "<div>\n",
       "<style scoped>\n",
       "    .dataframe tbody tr th:only-of-type {\n",
       "        vertical-align: middle;\n",
       "    }\n",
       "\n",
       "    .dataframe tbody tr th {\n",
       "        vertical-align: top;\n",
       "    }\n",
       "\n",
       "    .dataframe thead th {\n",
       "        text-align: right;\n",
       "    }\n",
       "</style>\n",
       "<table border=\"1\" class=\"dataframe\">\n",
       "  <thead>\n",
       "    <tr style=\"text-align: right;\">\n",
       "      <th></th>\n",
       "      <th>ID_Pedido</th>\n",
       "      <th>Data_Pedido</th>\n",
       "      <th>ID_Cliente</th>\n",
       "      <th>Segmento</th>\n",
       "      <th>Pais</th>\n",
       "      <th>Cidade</th>\n",
       "      <th>Estado</th>\n",
       "      <th>ID_Produto</th>\n",
       "      <th>Categoria</th>\n",
       "      <th>SubCategoria</th>\n",
       "      <th>Valor_Venda</th>\n",
       "      <th>Ano</th>\n",
       "      <th>Desconto</th>\n",
       "      <th>Valor_Venda_com_Desconto</th>\n",
       "    </tr>\n",
       "  </thead>\n",
       "  <tbody>\n",
       "    <tr>\n",
       "      <th>0</th>\n",
       "      <td>CA-2017-152156</td>\n",
       "      <td>2017-11-08</td>\n",
       "      <td>CG-12520</td>\n",
       "      <td>Consumidor</td>\n",
       "      <td>United States</td>\n",
       "      <td>Henderson</td>\n",
       "      <td>Kentucky</td>\n",
       "      <td>FUR-BO-10001798</td>\n",
       "      <td>Mobiliário</td>\n",
       "      <td>Estantes</td>\n",
       "      <td>261.9600</td>\n",
       "      <td>2017</td>\n",
       "      <td>0.1</td>\n",
       "      <td>235.76400</td>\n",
       "    </tr>\n",
       "    <tr>\n",
       "      <th>1</th>\n",
       "      <td>CA-2017-152156</td>\n",
       "      <td>2017-11-08</td>\n",
       "      <td>CG-12520</td>\n",
       "      <td>Consumidor</td>\n",
       "      <td>United States</td>\n",
       "      <td>Henderson</td>\n",
       "      <td>Kentucky</td>\n",
       "      <td>FUR-CH-10000454</td>\n",
       "      <td>Mobiliário</td>\n",
       "      <td>Cadeiras</td>\n",
       "      <td>731.9400</td>\n",
       "      <td>2017</td>\n",
       "      <td>0.1</td>\n",
       "      <td>658.74600</td>\n",
       "    </tr>\n",
       "    <tr>\n",
       "      <th>2</th>\n",
       "      <td>CA-2017-138688</td>\n",
       "      <td>2017-06-12</td>\n",
       "      <td>DV-13045</td>\n",
       "      <td>Corporativo</td>\n",
       "      <td>United States</td>\n",
       "      <td>Los Angeles</td>\n",
       "      <td>California</td>\n",
       "      <td>OFF-LA-10000240</td>\n",
       "      <td>Escritório</td>\n",
       "      <td>Etiquetas</td>\n",
       "      <td>14.6200</td>\n",
       "      <td>2017</td>\n",
       "      <td>0.1</td>\n",
       "      <td>13.15800</td>\n",
       "    </tr>\n",
       "    <tr>\n",
       "      <th>3</th>\n",
       "      <td>US-2016-108966</td>\n",
       "      <td>2016-10-11</td>\n",
       "      <td>SO-20335</td>\n",
       "      <td>Consumidor</td>\n",
       "      <td>United States</td>\n",
       "      <td>Fort Lauderdale</td>\n",
       "      <td>Florida</td>\n",
       "      <td>FUR-TA-10000577</td>\n",
       "      <td>Mobiliário</td>\n",
       "      <td>Mesas</td>\n",
       "      <td>957.5775</td>\n",
       "      <td>2016</td>\n",
       "      <td>0.1</td>\n",
       "      <td>861.81975</td>\n",
       "    </tr>\n",
       "    <tr>\n",
       "      <th>4</th>\n",
       "      <td>US-2016-108966</td>\n",
       "      <td>2016-10-11</td>\n",
       "      <td>SO-20335</td>\n",
       "      <td>Consumidor</td>\n",
       "      <td>United States</td>\n",
       "      <td>Fort Lauderdale</td>\n",
       "      <td>Florida</td>\n",
       "      <td>OFF-ST-10000760</td>\n",
       "      <td>Escritório</td>\n",
       "      <td>Armário</td>\n",
       "      <td>22.3680</td>\n",
       "      <td>2016</td>\n",
       "      <td>0.1</td>\n",
       "      <td>20.13120</td>\n",
       "    </tr>\n",
       "  </tbody>\n",
       "</table>\n",
       "</div>"
      ],
      "text/plain": [
       "        ID_Pedido Data_Pedido ID_Cliente     Segmento           Pais  \\\n",
       "0  CA-2017-152156  2017-11-08   CG-12520   Consumidor  United States   \n",
       "1  CA-2017-152156  2017-11-08   CG-12520   Consumidor  United States   \n",
       "2  CA-2017-138688  2017-06-12   DV-13045  Corporativo  United States   \n",
       "3  US-2016-108966  2016-10-11   SO-20335   Consumidor  United States   \n",
       "4  US-2016-108966  2016-10-11   SO-20335   Consumidor  United States   \n",
       "\n",
       "            Cidade      Estado       ID_Produto   Categoria SubCategoria  \\\n",
       "0        Henderson    Kentucky  FUR-BO-10001798  Mobiliário     Estantes   \n",
       "1        Henderson    Kentucky  FUR-CH-10000454  Mobiliário     Cadeiras   \n",
       "2      Los Angeles  California  OFF-LA-10000240  Escritório    Etiquetas   \n",
       "3  Fort Lauderdale     Florida  FUR-TA-10000577  Mobiliário        Mesas   \n",
       "4  Fort Lauderdale     Florida  OFF-ST-10000760  Escritório      Armário   \n",
       "\n",
       "   Valor_Venda   Ano  Desconto  Valor_Venda_com_Desconto  \n",
       "0     261.9600  2017       0.1                 235.76400  \n",
       "1     731.9400  2017       0.1                 658.74600  \n",
       "2      14.6200  2017       0.1                  13.15800  \n",
       "3     957.5775  2016       0.1                 861.81975  \n",
       "4      22.3680  2016       0.1                  20.13120  "
      ]
     },
     "execution_count": 64,
     "metadata": {},
     "output_type": "execute_result"
    }
   ],
   "source": [
    "df_venda.head()"
   ]
  },
  {
   "cell_type": "code",
   "execution_count": 65,
   "id": "6b37bc77",
   "metadata": {},
   "outputs": [],
   "source": [
    "# Filtrando as vendas antes do desconto de 15%\n",
    "venda_antes_desconto = df_venda.loc[df_venda['Desconto'] == 0.15, 'Valor_Venda']"
   ]
  },
  {
   "cell_type": "code",
   "execution_count": 66,
   "id": "935843bf",
   "metadata": {},
   "outputs": [],
   "source": [
    "# Filtrando as vendas depois do desconto de 15%\n",
    "venda_depois_desconto = df_venda.loc[df_venda['Desconto'] == 0.15, 'Valor_Venda_com_Desconto']"
   ]
  },
  {
   "cell_type": "code",
   "execution_count": 67,
   "id": "0ae67125",
   "metadata": {},
   "outputs": [],
   "source": [
    "# Obtendo a média de vendas antes do desconto de 15%\n",
    "media_venda_antes_desconto = venda_antes_desconto.mean()"
   ]
  },
  {
   "cell_type": "code",
   "execution_count": 68,
   "id": "6fa3ba05",
   "metadata": {},
   "outputs": [],
   "source": [
    "# Obtendo a média de vendas depois do desconto de 15%\n",
    "media_venda_depois_desconto = venda_depois_desconto.mean()"
   ]
  },
  {
   "cell_type": "code",
   "execution_count": 69,
   "id": "e01664ba",
   "metadata": {},
   "outputs": [
    {
     "name": "stdout",
     "output_type": "stream",
     "text": [
      "\u001b[34mMédia das vendas antes do desconto 15%: \u001b[0m 2116.81\n"
     ]
    }
   ],
   "source": [
    "print(Fore.BLUE + 'Média das vendas antes do desconto 15%: '+ Style.RESET_ALL, round(media_venda_antes_desconto, 2))"
   ]
  },
  {
   "cell_type": "code",
   "execution_count": 70,
   "id": "1cf824d6",
   "metadata": {},
   "outputs": [
    {
     "name": "stdout",
     "output_type": "stream",
     "text": [
      "\u001b[34mMédia das vendas depois do desconto 15%: \u001b[0m 1799.29\n"
     ]
    }
   ],
   "source": [
    "print(Fore.BLUE + 'Média das vendas depois do desconto 15%: '+ Style.RESET_ALL, round(media_venda_depois_desconto, 2))"
   ]
  },
  {
   "cell_type": "markdown",
   "id": "149e1214",
   "metadata": {},
   "source": [
    "## Pergunta de Negócio 9:\n",
    "\n",
    "### Qual o Média de Vendas Por Segmento, Por Ano e Por Mês?\n",
    "\n",
    "Demonstre o resultado através de gráfico de linha."
   ]
  },
  {
   "cell_type": "code",
   "execution_count": 71,
   "id": "1eed1a02",
   "metadata": {},
   "outputs": [],
   "source": [
    "# Extraímos o mês e gravamos em uma nova variável\n",
    "df_venda['Mes'] = df_venda['Data_Pedido'].dt.month"
   ]
  },
  {
   "cell_type": "code",
   "execution_count": 72,
   "id": "88d128c7",
   "metadata": {},
   "outputs": [
    {
     "data": {
      "text/html": [
       "<div>\n",
       "<style scoped>\n",
       "    .dataframe tbody tr th:only-of-type {\n",
       "        vertical-align: middle;\n",
       "    }\n",
       "\n",
       "    .dataframe tbody tr th {\n",
       "        vertical-align: top;\n",
       "    }\n",
       "\n",
       "    .dataframe thead th {\n",
       "        text-align: right;\n",
       "    }\n",
       "</style>\n",
       "<table border=\"1\" class=\"dataframe\">\n",
       "  <thead>\n",
       "    <tr style=\"text-align: right;\">\n",
       "      <th></th>\n",
       "      <th>ID_Pedido</th>\n",
       "      <th>Data_Pedido</th>\n",
       "      <th>ID_Cliente</th>\n",
       "      <th>Segmento</th>\n",
       "      <th>Pais</th>\n",
       "      <th>Cidade</th>\n",
       "      <th>Estado</th>\n",
       "      <th>ID_Produto</th>\n",
       "      <th>Categoria</th>\n",
       "      <th>SubCategoria</th>\n",
       "      <th>Valor_Venda</th>\n",
       "      <th>Ano</th>\n",
       "      <th>Desconto</th>\n",
       "      <th>Valor_Venda_com_Desconto</th>\n",
       "      <th>Mes</th>\n",
       "    </tr>\n",
       "  </thead>\n",
       "  <tbody>\n",
       "    <tr>\n",
       "      <th>0</th>\n",
       "      <td>CA-2017-152156</td>\n",
       "      <td>2017-11-08</td>\n",
       "      <td>CG-12520</td>\n",
       "      <td>Consumidor</td>\n",
       "      <td>United States</td>\n",
       "      <td>Henderson</td>\n",
       "      <td>Kentucky</td>\n",
       "      <td>FUR-BO-10001798</td>\n",
       "      <td>Mobiliário</td>\n",
       "      <td>Estantes</td>\n",
       "      <td>261.9600</td>\n",
       "      <td>2017</td>\n",
       "      <td>0.1</td>\n",
       "      <td>235.76400</td>\n",
       "      <td>11</td>\n",
       "    </tr>\n",
       "    <tr>\n",
       "      <th>1</th>\n",
       "      <td>CA-2017-152156</td>\n",
       "      <td>2017-11-08</td>\n",
       "      <td>CG-12520</td>\n",
       "      <td>Consumidor</td>\n",
       "      <td>United States</td>\n",
       "      <td>Henderson</td>\n",
       "      <td>Kentucky</td>\n",
       "      <td>FUR-CH-10000454</td>\n",
       "      <td>Mobiliário</td>\n",
       "      <td>Cadeiras</td>\n",
       "      <td>731.9400</td>\n",
       "      <td>2017</td>\n",
       "      <td>0.1</td>\n",
       "      <td>658.74600</td>\n",
       "      <td>11</td>\n",
       "    </tr>\n",
       "    <tr>\n",
       "      <th>2</th>\n",
       "      <td>CA-2017-138688</td>\n",
       "      <td>2017-06-12</td>\n",
       "      <td>DV-13045</td>\n",
       "      <td>Corporativo</td>\n",
       "      <td>United States</td>\n",
       "      <td>Los Angeles</td>\n",
       "      <td>California</td>\n",
       "      <td>OFF-LA-10000240</td>\n",
       "      <td>Escritório</td>\n",
       "      <td>Etiquetas</td>\n",
       "      <td>14.6200</td>\n",
       "      <td>2017</td>\n",
       "      <td>0.1</td>\n",
       "      <td>13.15800</td>\n",
       "      <td>6</td>\n",
       "    </tr>\n",
       "    <tr>\n",
       "      <th>3</th>\n",
       "      <td>US-2016-108966</td>\n",
       "      <td>2016-10-11</td>\n",
       "      <td>SO-20335</td>\n",
       "      <td>Consumidor</td>\n",
       "      <td>United States</td>\n",
       "      <td>Fort Lauderdale</td>\n",
       "      <td>Florida</td>\n",
       "      <td>FUR-TA-10000577</td>\n",
       "      <td>Mobiliário</td>\n",
       "      <td>Mesas</td>\n",
       "      <td>957.5775</td>\n",
       "      <td>2016</td>\n",
       "      <td>0.1</td>\n",
       "      <td>861.81975</td>\n",
       "      <td>10</td>\n",
       "    </tr>\n",
       "    <tr>\n",
       "      <th>4</th>\n",
       "      <td>US-2016-108966</td>\n",
       "      <td>2016-10-11</td>\n",
       "      <td>SO-20335</td>\n",
       "      <td>Consumidor</td>\n",
       "      <td>United States</td>\n",
       "      <td>Fort Lauderdale</td>\n",
       "      <td>Florida</td>\n",
       "      <td>OFF-ST-10000760</td>\n",
       "      <td>Escritório</td>\n",
       "      <td>Armário</td>\n",
       "      <td>22.3680</td>\n",
       "      <td>2016</td>\n",
       "      <td>0.1</td>\n",
       "      <td>20.13120</td>\n",
       "      <td>10</td>\n",
       "    </tr>\n",
       "  </tbody>\n",
       "</table>\n",
       "</div>"
      ],
      "text/plain": [
       "        ID_Pedido Data_Pedido ID_Cliente     Segmento           Pais  \\\n",
       "0  CA-2017-152156  2017-11-08   CG-12520   Consumidor  United States   \n",
       "1  CA-2017-152156  2017-11-08   CG-12520   Consumidor  United States   \n",
       "2  CA-2017-138688  2017-06-12   DV-13045  Corporativo  United States   \n",
       "3  US-2016-108966  2016-10-11   SO-20335   Consumidor  United States   \n",
       "4  US-2016-108966  2016-10-11   SO-20335   Consumidor  United States   \n",
       "\n",
       "            Cidade      Estado       ID_Produto   Categoria SubCategoria  \\\n",
       "0        Henderson    Kentucky  FUR-BO-10001798  Mobiliário     Estantes   \n",
       "1        Henderson    Kentucky  FUR-CH-10000454  Mobiliário     Cadeiras   \n",
       "2      Los Angeles  California  OFF-LA-10000240  Escritório    Etiquetas   \n",
       "3  Fort Lauderdale     Florida  FUR-TA-10000577  Mobiliário        Mesas   \n",
       "4  Fort Lauderdale     Florida  OFF-ST-10000760  Escritório      Armário   \n",
       "\n",
       "   Valor_Venda   Ano  Desconto  Valor_Venda_com_Desconto  Mes  \n",
       "0     261.9600  2017       0.1                 235.76400   11  \n",
       "1     731.9400  2017       0.1                 658.74600   11  \n",
       "2      14.6200  2017       0.1                  13.15800    6  \n",
       "3     957.5775  2016       0.1                 861.81975   10  \n",
       "4      22.3680  2016       0.1                  20.13120   10  "
      ]
     },
     "execution_count": 72,
     "metadata": {},
     "output_type": "execute_result"
    }
   ],
   "source": [
    "df_venda.head()"
   ]
  },
  {
   "cell_type": "code",
   "execution_count": 73,
   "id": "f1e1b696",
   "metadata": {},
   "outputs": [],
   "source": [
    "# Agrupamos por ano, mês e segmento e calculamos estatísticas de agregação\n",
    "df_venda_p9 = df_venda.groupby(['Ano', 'Mes', 'Segmento'])['Valor_Venda'].agg([np.sum, np.mean, np.median])"
   ]
  },
  {
   "cell_type": "code",
   "execution_count": 76,
   "id": "bc73e7fb",
   "metadata": {},
   "outputs": [
    {
     "data": {
      "text/plain": [
       "<bound method NDFrame.head of                              sum        mean  median\n",
       "Ano  Mes Segmento                                   \n",
       "2015 1   Consumidor    6896.6290  146.736787  36.440\n",
       "         Corporativo   1701.5280  130.886769  51.940\n",
       "         Home Office   5607.5500  329.855882  62.820\n",
       "     2   Consumidor    3167.8540  117.327926  22.776\n",
       "         Corporativo    623.1180   69.235333  62.310\n",
       "...                          ...         ...     ...\n",
       "2018 11  Corporativo  44357.9862  341.215278  79.530\n",
       "         Home Office  24009.3840  247.519423  56.560\n",
       "     12  Consumidor   48107.4558  183.616244  52.533\n",
       "         Corporativo  20524.4320  153.167403  46.460\n",
       "         Home Office  13022.3910  224.523983  49.260\n",
       "\n",
       "[144 rows x 3 columns]>"
      ]
     },
     "execution_count": 76,
     "metadata": {},
     "output_type": "execute_result"
    }
   ],
   "source": [
    "df_venda_p9.head"
   ]
  },
  {
   "cell_type": "code",
   "execution_count": 77,
   "id": "53cc17d4",
   "metadata": {},
   "outputs": [],
   "source": [
    "# Vamos extrair os níveis\n",
    "anos = df_venda_p9.index.get_level_values(0)\n",
    "meses = df_venda_p9.index.get_level_values(1)\n",
    "segmentos = df_venda_p9.index.get_level_values(2)"
   ]
  },
  {
   "cell_type": "markdown",
   "id": "98307b8d",
   "metadata": {},
   "source": [
    "https://seaborn.pydata.org/generated/seaborn.relplot.html"
   ]
  },
  {
   "cell_type": "code",
   "execution_count": 78,
   "id": "591fe913",
   "metadata": {},
   "outputs": [
    {
     "data": {
      "text/plain": [
       "<Figure size 864x432 with 0 Axes>"
      ]
     },
     "metadata": {},
     "output_type": "display_data"
    },
    {
     "data": {
      "image/png": "[encoded data removed]",
      "text/plain": [
       "<Figure size 1540.6x360 with 4 Axes>"
      ]
     },
     "metadata": {},
     "output_type": "display_data"
    }
   ],
   "source": [
    "# Plot\n",
    "plt.figure(figsize= (12, 6))\n",
    "sns.set()\n",
    "fig1 = sns.relplot(kind='line',\n",
    "                  data = df_venda_p9,\n",
    "                  y = 'mean',\n",
    "                  x = meses,\n",
    "                  hue = segmentos,\n",
    "                  col = anos,\n",
    "                  col_wrap = 4)\n",
    "plt.show()"
   ]
  },
  {
   "cell_type": "markdown",
   "id": "836ba626",
   "metadata": {},
   "source": [
    "## Pergunta de Negócio 10 (Desafio Nível Master Ninja das Galáxias):\n",
    "\n",
    "### Qual o Total de Vendas Por Categoria e SubCategoria, Considerando Somente as Top 12 SubCategorias? \n",
    "\n",
    "Demonstre tudo através de um único gráfico."
   ]
  },
  {
   "cell_type": "code",
   "execution_count": 79,
   "id": "7e7f9439",
   "metadata": {},
   "outputs": [
    {
     "data": {
      "text/html": [
       "<div>\n",
       "<style scoped>\n",
       "    .dataframe tbody tr th:only-of-type {\n",
       "        vertical-align: middle;\n",
       "    }\n",
       "\n",
       "    .dataframe tbody tr th {\n",
       "        vertical-align: top;\n",
       "    }\n",
       "\n",
       "    .dataframe thead th {\n",
       "        text-align: right;\n",
       "    }\n",
       "</style>\n",
       "<table border=\"1\" class=\"dataframe\">\n",
       "  <thead>\n",
       "    <tr style=\"text-align: right;\">\n",
       "      <th></th>\n",
       "      <th>ID_Pedido</th>\n",
       "      <th>Data_Pedido</th>\n",
       "      <th>ID_Cliente</th>\n",
       "      <th>Segmento</th>\n",
       "      <th>Pais</th>\n",
       "      <th>Cidade</th>\n",
       "      <th>Estado</th>\n",
       "      <th>ID_Produto</th>\n",
       "      <th>Categoria</th>\n",
       "      <th>SubCategoria</th>\n",
       "      <th>Valor_Venda</th>\n",
       "      <th>Ano</th>\n",
       "      <th>Desconto</th>\n",
       "      <th>Valor_Venda_com_Desconto</th>\n",
       "      <th>Mes</th>\n",
       "    </tr>\n",
       "  </thead>\n",
       "  <tbody>\n",
       "    <tr>\n",
       "      <th>0</th>\n",
       "      <td>CA-2017-152156</td>\n",
       "      <td>2017-11-08</td>\n",
       "      <td>CG-12520</td>\n",
       "      <td>Consumidor</td>\n",
       "      <td>United States</td>\n",
       "      <td>Henderson</td>\n",
       "      <td>Kentucky</td>\n",
       "      <td>FUR-BO-10001798</td>\n",
       "      <td>Mobiliário</td>\n",
       "      <td>Estantes</td>\n",
       "      <td>261.9600</td>\n",
       "      <td>2017</td>\n",
       "      <td>0.1</td>\n",
       "      <td>235.76400</td>\n",
       "      <td>11</td>\n",
       "    </tr>\n",
       "    <tr>\n",
       "      <th>1</th>\n",
       "      <td>CA-2017-152156</td>\n",
       "      <td>2017-11-08</td>\n",
       "      <td>CG-12520</td>\n",
       "      <td>Consumidor</td>\n",
       "      <td>United States</td>\n",
       "      <td>Henderson</td>\n",
       "      <td>Kentucky</td>\n",
       "      <td>FUR-CH-10000454</td>\n",
       "      <td>Mobiliário</td>\n",
       "      <td>Cadeiras</td>\n",
       "      <td>731.9400</td>\n",
       "      <td>2017</td>\n",
       "      <td>0.1</td>\n",
       "      <td>658.74600</td>\n",
       "      <td>11</td>\n",
       "    </tr>\n",
       "    <tr>\n",
       "      <th>2</th>\n",
       "      <td>CA-2017-138688</td>\n",
       "      <td>2017-06-12</td>\n",
       "      <td>DV-13045</td>\n",
       "      <td>Corporativo</td>\n",
       "      <td>United States</td>\n",
       "      <td>Los Angeles</td>\n",
       "      <td>California</td>\n",
       "      <td>OFF-LA-10000240</td>\n",
       "      <td>Escritório</td>\n",
       "      <td>Etiquetas</td>\n",
       "      <td>14.6200</td>\n",
       "      <td>2017</td>\n",
       "      <td>0.1</td>\n",
       "      <td>13.15800</td>\n",
       "      <td>6</td>\n",
       "    </tr>\n",
       "    <tr>\n",
       "      <th>3</th>\n",
       "      <td>US-2016-108966</td>\n",
       "      <td>2016-10-11</td>\n",
       "      <td>SO-20335</td>\n",
       "      <td>Consumidor</td>\n",
       "      <td>United States</td>\n",
       "      <td>Fort Lauderdale</td>\n",
       "      <td>Florida</td>\n",
       "      <td>FUR-TA-10000577</td>\n",
       "      <td>Mobiliário</td>\n",
       "      <td>Mesas</td>\n",
       "      <td>957.5775</td>\n",
       "      <td>2016</td>\n",
       "      <td>0.1</td>\n",
       "      <td>861.81975</td>\n",
       "      <td>10</td>\n",
       "    </tr>\n",
       "    <tr>\n",
       "      <th>4</th>\n",
       "      <td>US-2016-108966</td>\n",
       "      <td>2016-10-11</td>\n",
       "      <td>SO-20335</td>\n",
       "      <td>Consumidor</td>\n",
       "      <td>United States</td>\n",
       "      <td>Fort Lauderdale</td>\n",
       "      <td>Florida</td>\n",
       "      <td>OFF-ST-10000760</td>\n",
       "      <td>Escritório</td>\n",
       "      <td>Armário</td>\n",
       "      <td>22.3680</td>\n",
       "      <td>2016</td>\n",
       "      <td>0.1</td>\n",
       "      <td>20.13120</td>\n",
       "      <td>10</td>\n",
       "    </tr>\n",
       "  </tbody>\n",
       "</table>\n",
       "</div>"
      ],
      "text/plain": [
       "        ID_Pedido Data_Pedido ID_Cliente     Segmento           Pais  \\\n",
       "0  CA-2017-152156  2017-11-08   CG-12520   Consumidor  United States   \n",
       "1  CA-2017-152156  2017-11-08   CG-12520   Consumidor  United States   \n",
       "2  CA-2017-138688  2017-06-12   DV-13045  Corporativo  United States   \n",
       "3  US-2016-108966  2016-10-11   SO-20335   Consumidor  United States   \n",
       "4  US-2016-108966  2016-10-11   SO-20335   Consumidor  United States   \n",
       "\n",
       "            Cidade      Estado       ID_Produto   Categoria SubCategoria  \\\n",
       "0        Henderson    Kentucky  FUR-BO-10001798  Mobiliário     Estantes   \n",
       "1        Henderson    Kentucky  FUR-CH-10000454  Mobiliário     Cadeiras   \n",
       "2      Los Angeles  California  OFF-LA-10000240  Escritório    Etiquetas   \n",
       "3  Fort Lauderdale     Florida  FUR-TA-10000577  Mobiliário        Mesas   \n",
       "4  Fort Lauderdale     Florida  OFF-ST-10000760  Escritório      Armário   \n",
       "\n",
       "   Valor_Venda   Ano  Desconto  Valor_Venda_com_Desconto  Mes  \n",
       "0     261.9600  2017       0.1                 235.76400   11  \n",
       "1     731.9400  2017       0.1                 658.74600   11  \n",
       "2      14.6200  2017       0.1                  13.15800    6  \n",
       "3     957.5775  2016       0.1                 861.81975   10  \n",
       "4      22.3680  2016       0.1                  20.13120   10  "
      ]
     },
     "execution_count": 79,
     "metadata": {},
     "output_type": "execute_result"
    }
   ],
   "source": [
    "df_venda.head()"
   ]
  },
  {
   "cell_type": "code",
   "execution_count": 80,
   "id": "53808b99",
   "metadata": {},
   "outputs": [],
   "source": [
    "# Agrupando por categoria e subcategoria e calculando a soma somente das variáveis numéricas\n",
    "df_venda_p9 = df_venda.groupby(['Categoria',\n",
    "                                'SubCategoria']).sum(numeric_only=True).sort_values('Valor_Venda', \n",
    "                                                                                   ascending = False).head(12)"
   ]
  },
  {
   "cell_type": "code",
   "execution_count": 81,
   "id": "c199084c",
   "metadata": {},
   "outputs": [],
   "source": [
    "# Convertendo a coluna Valor Venda em número inteiro e classificando por categoria\n",
    "df_venda_p9 = df_venda_p9[['Valor_Venda']].astype(int).sort_values(by = 'Categoria').reset_index()"
   ]
  },
  {
   "cell_type": "markdown",
   "id": "ad5478f8",
   "metadata": {},
   "source": [
    "Obs: Classificar o item acima por categoria é importante para preencher o gráfico com as subcategorias para cada categoria de forma ordenada."
   ]
  },
  {
   "cell_type": "code",
   "execution_count": 82,
   "id": "b8f85800",
   "metadata": {},
   "outputs": [
    {
     "data": {
      "text/html": [
       "<div>\n",
       "<style scoped>\n",
       "    .dataframe tbody tr th:only-of-type {\n",
       "        vertical-align: middle;\n",
       "    }\n",
       "\n",
       "    .dataframe tbody tr th {\n",
       "        vertical-align: top;\n",
       "    }\n",
       "\n",
       "    .dataframe thead th {\n",
       "        text-align: right;\n",
       "    }\n",
       "</style>\n",
       "<table border=\"1\" class=\"dataframe\">\n",
       "  <thead>\n",
       "    <tr style=\"text-align: right;\">\n",
       "      <th></th>\n",
       "      <th>Categoria</th>\n",
       "      <th>SubCategoria</th>\n",
       "      <th>Valor_Venda</th>\n",
       "    </tr>\n",
       "  </thead>\n",
       "  <tbody>\n",
       "    <tr>\n",
       "      <th>0</th>\n",
       "      <td>Escritório</td>\n",
       "      <td>Armário</td>\n",
       "      <td>216188</td>\n",
       "    </tr>\n",
       "    <tr>\n",
       "      <th>1</th>\n",
       "      <td>Escritório</td>\n",
       "      <td>Fichários</td>\n",
       "      <td>194723</td>\n",
       "    </tr>\n",
       "    <tr>\n",
       "      <th>2</th>\n",
       "      <td>Escritório</td>\n",
       "      <td>Eletrodomésticos</td>\n",
       "      <td>104061</td>\n",
       "    </tr>\n",
       "    <tr>\n",
       "      <th>3</th>\n",
       "      <td>Escritório</td>\n",
       "      <td>Papel</td>\n",
       "      <td>76312</td>\n",
       "    </tr>\n",
       "    <tr>\n",
       "      <th>4</th>\n",
       "      <td>Mobiliário</td>\n",
       "      <td>Cadeiras</td>\n",
       "      <td>317919</td>\n",
       "    </tr>\n",
       "    <tr>\n",
       "      <th>5</th>\n",
       "      <td>Mobiliário</td>\n",
       "      <td>Mesas</td>\n",
       "      <td>202083</td>\n",
       "    </tr>\n",
       "    <tr>\n",
       "      <th>6</th>\n",
       "      <td>Mobiliário</td>\n",
       "      <td>Estantes</td>\n",
       "      <td>108045</td>\n",
       "    </tr>\n",
       "    <tr>\n",
       "      <th>7</th>\n",
       "      <td>Mobiliário</td>\n",
       "      <td>Móveis</td>\n",
       "      <td>88862</td>\n",
       "    </tr>\n",
       "    <tr>\n",
       "      <th>8</th>\n",
       "      <td>Tecnologia</td>\n",
       "      <td>Telefones</td>\n",
       "      <td>325271</td>\n",
       "    </tr>\n",
       "    <tr>\n",
       "      <th>9</th>\n",
       "      <td>Tecnologia</td>\n",
       "      <td>Máquinas</td>\n",
       "      <td>189238</td>\n",
       "    </tr>\n",
       "    <tr>\n",
       "      <th>10</th>\n",
       "      <td>Tecnologia</td>\n",
       "      <td>Acessórias</td>\n",
       "      <td>162791</td>\n",
       "    </tr>\n",
       "    <tr>\n",
       "      <th>11</th>\n",
       "      <td>Tecnologia</td>\n",
       "      <td>Copiadoras</td>\n",
       "      <td>146248</td>\n",
       "    </tr>\n",
       "  </tbody>\n",
       "</table>\n",
       "</div>"
      ],
      "text/plain": [
       "     Categoria      SubCategoria  Valor_Venda\n",
       "0   Escritório           Armário       216188\n",
       "1   Escritório         Fichários       194723\n",
       "2   Escritório  Eletrodomésticos       104061\n",
       "3   Escritório             Papel        76312\n",
       "4   Mobiliário          Cadeiras       317919\n",
       "5   Mobiliário             Mesas       202083\n",
       "6   Mobiliário          Estantes       108045\n",
       "7   Mobiliário            Móveis        88862\n",
       "8   Tecnologia         Telefones       325271\n",
       "9   Tecnologia          Máquinas       189238\n",
       "10  Tecnologia        Acessórias       162791\n",
       "11  Tecnologia        Copiadoras       146248"
      ]
     },
     "execution_count": 82,
     "metadata": {},
     "output_type": "execute_result"
    }
   ],
   "source": [
    "# Dataframe com categorias e subcategorias\n",
    "df_venda_p9"
   ]
  },
  {
   "cell_type": "code",
   "execution_count": 83,
   "id": "08ac4ab0",
   "metadata": {},
   "outputs": [],
   "source": [
    "# Criamos outro dataframe somente com os totais por categoria\n",
    "df_venda_p9_categ = df_venda_p9.groupby('Categoria').sum(numeric_only = True).reset_index()"
   ]
  },
  {
   "cell_type": "code",
   "execution_count": 84,
   "id": "670f2939",
   "metadata": {},
   "outputs": [
    {
     "data": {
      "text/html": [
       "<div>\n",
       "<style scoped>\n",
       "    .dataframe tbody tr th:only-of-type {\n",
       "        vertical-align: middle;\n",
       "    }\n",
       "\n",
       "    .dataframe tbody tr th {\n",
       "        vertical-align: top;\n",
       "    }\n",
       "\n",
       "    .dataframe thead th {\n",
       "        text-align: right;\n",
       "    }\n",
       "</style>\n",
       "<table border=\"1\" class=\"dataframe\">\n",
       "  <thead>\n",
       "    <tr style=\"text-align: right;\">\n",
       "      <th></th>\n",
       "      <th>Categoria</th>\n",
       "      <th>Valor_Venda</th>\n",
       "    </tr>\n",
       "  </thead>\n",
       "  <tbody>\n",
       "    <tr>\n",
       "      <th>0</th>\n",
       "      <td>Escritório</td>\n",
       "      <td>591284</td>\n",
       "    </tr>\n",
       "    <tr>\n",
       "      <th>1</th>\n",
       "      <td>Mobiliário</td>\n",
       "      <td>716909</td>\n",
       "    </tr>\n",
       "    <tr>\n",
       "      <th>2</th>\n",
       "      <td>Tecnologia</td>\n",
       "      <td>823548</td>\n",
       "    </tr>\n",
       "  </tbody>\n",
       "</table>\n",
       "</div>"
      ],
      "text/plain": [
       "    Categoria  Valor_Venda\n",
       "0  Escritório       591284\n",
       "1  Mobiliário       716909\n",
       "2  Tecnologia       823548"
      ]
     },
     "execution_count": 84,
     "metadata": {},
     "output_type": "execute_result"
    }
   ],
   "source": [
    "# Dataframe com categorias \n",
    "df_venda_p9_categ"
   ]
  },
  {
   "cell_type": "code",
   "execution_count": 85,
   "id": "cba737b4",
   "metadata": {},
   "outputs": [],
   "source": [
    "# Listas de cores para categorias\n",
    "# Lista de cores para categoria\n",
    "cores_categorias = ['#d6921c', \n",
    "                    '#1f917c', \n",
    "                    '#332bd6']"
   ]
  },
  {
   "cell_type": "code",
   "execution_count": 86,
   "id": "70035a46",
   "metadata": {},
   "outputs": [],
   "source": [
    "# Listas de cores para subcategorias\n",
    "cores_subcategorias = ['#aa8cd4',\n",
    "                       '#aa8cd5',\n",
    "                       '#aa8cd6',\n",
    "                       '#aa8cd7',\n",
    "                       '#26c957',\n",
    "                       '#26c958',\n",
    "                       '#26c959',\n",
    "                       '#26c960',\n",
    "                       '#e65e65',\n",
    "                       '#e65e66',\n",
    "                       '#e65e67',\n",
    "                       '#e65e68']"
   ]
  },
  {
   "cell_type": "code",
   "execution_count": 90,
   "id": "0028c025",
   "metadata": {},
   "outputs": [
    {
     "data": {
      "image/png": "[encoded data removed]",
      "text/plain": [
       "<Figure size 1296x864 with 1 Axes>"
      ]
     },
     "metadata": {},
     "output_type": "display_data"
    }
   ],
   "source": [
    "# Plot\n",
    "\n",
    "# Tamanho da figura\n",
    "fig, ax = plt.subplots(figsize = (18,12))\n",
    "\n",
    "# Gráfico das categorias\n",
    "p1 = ax.pie(df_venda_p9_categ['Valor_Venda'], \n",
    "            radius = 1,\n",
    "            labels = df_venda_p9_categ['Categoria'],\n",
    "            wedgeprops = dict(edgecolor = 'white'),\n",
    "            colors = cores_categorias)\n",
    "\n",
    "# Gráfico das subcategorias\n",
    "p2 = ax.pie(df_venda_p9['Valor_Venda'],\n",
    "            radius = 0.9,\n",
    "            labels = df_venda_p9['SubCategoria'],\n",
    "            autopct = autopct_format(df_venda_p9['Valor_Venda'] * 4.91),\n",
    "            colors = cores_subcategorias, \n",
    "            labeldistance = 0.7,\n",
    "            wedgeprops = dict(edgecolor = 'white'), \n",
    "            pctdistance = 0.53,\n",
    "            rotatelabels = True)\n",
    "\n",
    "# Limpa o centro do círculo\n",
    "centre_circle = plt.Circle((0, 0), 0.6, fc = 'white')\n",
    "\n",
    "# Labels e anotações\n",
    "fig = plt.gcf()\n",
    "fig.gca().add_artist(centre_circle)\n",
    "plt.annotate(text = 'Total de Vendas: ' + 'R$ ' + str(int(sum(df_venda_p9['Valor_Venda'] * 4.91))), xy = (-0.2, 0))\n",
    "plt.title('Total de Vendas Por Categoria e Top 12 SubCategorias')\n",
    "plt.show()"
   ]
  },
  {
   "cell_type": "markdown",
   "id": "9b22cb7c",
   "metadata": {},
   "source": [
    "# Fim"
   ]
  }
 ],
 "metadata": {
  "kernelspec": {
   "display_name": "Python 3 (ipykernel)",
   "language": "python",
   "name": "python3"
  },
  "language_info": {
   "codemirror_mode": {
    "name": "ipython",
    "version": 3
   },
   "file_extension": ".py",
   "mimetype": "text/x-python",
   "name": "python",
   "nbconvert_exporter": "python",
   "pygments_lexer": "ipython3",
   "version": "3.9.12"
  }
 },
 "nbformat": 4,
 "nbformat_minor": 5
}
